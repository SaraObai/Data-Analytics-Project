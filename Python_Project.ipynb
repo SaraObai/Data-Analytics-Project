{
  "nbformat": 4,
  "nbformat_minor": 0,
  "metadata": {
    "colab": {
      "provenance": []
    },
    "kernelspec": {
      "name": "python3",
      "display_name": "Python 3"
    },
    "language_info": {
      "name": "python"
    }
  },
  "cells": [
    {
      "cell_type": "code",
      "source": [
        "#Import all necessary libraries\n",
        "import pandas as pd\n",
        "from pandas import Series,DataFrame\n",
        "import numpy as np\n",
        "import matplotlib.pyplot as plt\n",
        "import seaborn as sns\n",
        "\n",
        "#Classification\n",
        "from sklearn.tree import DecisionTreeClassifier\n",
        "from sklearn.neighbors import KNeighborsClassifier\n",
        "from sklearn.naive_bayes import GaussianNB\n",
        "\n",
        "#Regression\n",
        "from sklearn.linear_model import LinearRegression\n",
        "from sklearn.neighbors import KNeighborsRegressor\n",
        "from sklearn.tree import DecisionTreeRegressor\n",
        "from sklearn.svm import SVR\n",
        "\n",
        "#Selection\n",
        "from sklearn.model_selection import train_test_split\n",
        "from sklearn.preprocessing import LabelEncoder\n",
        "from sklearn.preprocessing import StandardScaler\n",
        "\n",
        "#Evaluation Metrics\n",
        "from sklearn.metrics import accuracy_score, recall_score, precision_score, f1_score, mean_squared_error, mean_absolute_error, r2_score\n"
      ],
      "metadata": {
        "id": "_FKHHeimIo4t"
      },
      "execution_count": null,
      "outputs": []
    },
    {
      "cell_type": "code",
      "source": [
        "data = pd.read_csv('/content/drive/MyDrive/IoTID20.csv')\n",
        "data.head()"
      ],
      "metadata": {
        "id": "UHWjc4bYXBYk",
        "colab": {
          "base_uri": "https://localhost:8080/",
          "height": 429
        },
        "outputId": "d2d651b6-7a9e-4319-d5b4-2a50fe38078f"
      },
      "execution_count": null,
      "outputs": [
        {
          "output_type": "execute_result",
          "data": {
            "text/plain": [
              "                                     Flow_ID           Src_IP  Src_Port  \\\n",
              "0   192.168.0.13-192.168.0.16-10000-10101-17     192.168.0.13     10000   \n",
              "1    192.168.0.13-222.160.179.132-554-2179-6  222.160.179.132      2179   \n",
              "2     192.168.0.13-192.168.0.16-9020-52727-6     192.168.0.16     52727   \n",
              "3     192.168.0.13-192.168.0.16-9020-52964-6     192.168.0.16     52964   \n",
              "4  192.168.0.1-239.255.255.250-36763-1900-17      192.168.0.1     36763   \n",
              "\n",
              "            Dst_IP  Dst_Port  Protocol               Timestamp  Flow_Duration  \\\n",
              "0     192.168.0.16     10101        17  25/07/2019 03:25:53 AM             75   \n",
              "1     192.168.0.13       554         6  26/05/2019 10:11:06 PM           5310   \n",
              "2     192.168.0.13      9020         6          11/7/2019 1:24            141   \n",
              "3     192.168.0.13      9020         6           4/9/2019 3:58            151   \n",
              "4  239.255.255.250      1900        17          10/9/2019 1:41            153   \n",
              "\n",
              "   Tot_Fwd_Pkts  Tot_Bwd_Pkts  ...  Active_Std  Active_Max  Active_Min  \\\n",
              "0             1             1  ...         0.0           0           0   \n",
              "1             1             2  ...         0.0           0           0   \n",
              "2             0             3  ...         0.0           0           0   \n",
              "3             0             2  ...         0.0           0           0   \n",
              "4             2             1  ...         0.0           0           0   \n",
              "\n",
              "   Idle_Mean     Idle_Std  Idle_Max  Idle_Min    Label    Cat  \\\n",
              "0       75.0     0.000000        75        75  Anomaly  Mirai   \n",
              "1     2655.0  2261.327486      4254      1056  Anomaly    DoS   \n",
              "2       70.5     0.707107        71        70  Anomaly   Scan   \n",
              "3      151.0     0.000000       151       151  Anomaly  Mirai   \n",
              "4       76.5     0.707107        77        76  Anomaly  Mirai   \n",
              "\n",
              "                 Sub_Cat  \n",
              "0      Mirai-Ackflooding  \n",
              "1        DoS-Synflooding  \n",
              "2           Scan Port OS  \n",
              "3  Mirai-Hostbruteforceg  \n",
              "4  Mirai-Hostbruteforceg  \n",
              "\n",
              "[5 rows x 86 columns]"
            ],
            "text/html": [
              "\n",
              "  <div id=\"df-d1eebcaf-c1c4-429b-8b21-3fdfed23cea7\" class=\"colab-df-container\">\n",
              "    <div>\n",
              "<style scoped>\n",
              "    .dataframe tbody tr th:only-of-type {\n",
              "        vertical-align: middle;\n",
              "    }\n",
              "\n",
              "    .dataframe tbody tr th {\n",
              "        vertical-align: top;\n",
              "    }\n",
              "\n",
              "    .dataframe thead th {\n",
              "        text-align: right;\n",
              "    }\n",
              "</style>\n",
              "<table border=\"1\" class=\"dataframe\">\n",
              "  <thead>\n",
              "    <tr style=\"text-align: right;\">\n",
              "      <th></th>\n",
              "      <th>Flow_ID</th>\n",
              "      <th>Src_IP</th>\n",
              "      <th>Src_Port</th>\n",
              "      <th>Dst_IP</th>\n",
              "      <th>Dst_Port</th>\n",
              "      <th>Protocol</th>\n",
              "      <th>Timestamp</th>\n",
              "      <th>Flow_Duration</th>\n",
              "      <th>Tot_Fwd_Pkts</th>\n",
              "      <th>Tot_Bwd_Pkts</th>\n",
              "      <th>...</th>\n",
              "      <th>Active_Std</th>\n",
              "      <th>Active_Max</th>\n",
              "      <th>Active_Min</th>\n",
              "      <th>Idle_Mean</th>\n",
              "      <th>Idle_Std</th>\n",
              "      <th>Idle_Max</th>\n",
              "      <th>Idle_Min</th>\n",
              "      <th>Label</th>\n",
              "      <th>Cat</th>\n",
              "      <th>Sub_Cat</th>\n",
              "    </tr>\n",
              "  </thead>\n",
              "  <tbody>\n",
              "    <tr>\n",
              "      <th>0</th>\n",
              "      <td>192.168.0.13-192.168.0.16-10000-10101-17</td>\n",
              "      <td>192.168.0.13</td>\n",
              "      <td>10000</td>\n",
              "      <td>192.168.0.16</td>\n",
              "      <td>10101</td>\n",
              "      <td>17</td>\n",
              "      <td>25/07/2019 03:25:53 AM</td>\n",
              "      <td>75</td>\n",
              "      <td>1</td>\n",
              "      <td>1</td>\n",
              "      <td>...</td>\n",
              "      <td>0.0</td>\n",
              "      <td>0</td>\n",
              "      <td>0</td>\n",
              "      <td>75.0</td>\n",
              "      <td>0.000000</td>\n",
              "      <td>75</td>\n",
              "      <td>75</td>\n",
              "      <td>Anomaly</td>\n",
              "      <td>Mirai</td>\n",
              "      <td>Mirai-Ackflooding</td>\n",
              "    </tr>\n",
              "    <tr>\n",
              "      <th>1</th>\n",
              "      <td>192.168.0.13-222.160.179.132-554-2179-6</td>\n",
              "      <td>222.160.179.132</td>\n",
              "      <td>2179</td>\n",
              "      <td>192.168.0.13</td>\n",
              "      <td>554</td>\n",
              "      <td>6</td>\n",
              "      <td>26/05/2019 10:11:06 PM</td>\n",
              "      <td>5310</td>\n",
              "      <td>1</td>\n",
              "      <td>2</td>\n",
              "      <td>...</td>\n",
              "      <td>0.0</td>\n",
              "      <td>0</td>\n",
              "      <td>0</td>\n",
              "      <td>2655.0</td>\n",
              "      <td>2261.327486</td>\n",
              "      <td>4254</td>\n",
              "      <td>1056</td>\n",
              "      <td>Anomaly</td>\n",
              "      <td>DoS</td>\n",
              "      <td>DoS-Synflooding</td>\n",
              "    </tr>\n",
              "    <tr>\n",
              "      <th>2</th>\n",
              "      <td>192.168.0.13-192.168.0.16-9020-52727-6</td>\n",
              "      <td>192.168.0.16</td>\n",
              "      <td>52727</td>\n",
              "      <td>192.168.0.13</td>\n",
              "      <td>9020</td>\n",
              "      <td>6</td>\n",
              "      <td>11/7/2019 1:24</td>\n",
              "      <td>141</td>\n",
              "      <td>0</td>\n",
              "      <td>3</td>\n",
              "      <td>...</td>\n",
              "      <td>0.0</td>\n",
              "      <td>0</td>\n",
              "      <td>0</td>\n",
              "      <td>70.5</td>\n",
              "      <td>0.707107</td>\n",
              "      <td>71</td>\n",
              "      <td>70</td>\n",
              "      <td>Anomaly</td>\n",
              "      <td>Scan</td>\n",
              "      <td>Scan Port OS</td>\n",
              "    </tr>\n",
              "    <tr>\n",
              "      <th>3</th>\n",
              "      <td>192.168.0.13-192.168.0.16-9020-52964-6</td>\n",
              "      <td>192.168.0.16</td>\n",
              "      <td>52964</td>\n",
              "      <td>192.168.0.13</td>\n",
              "      <td>9020</td>\n",
              "      <td>6</td>\n",
              "      <td>4/9/2019 3:58</td>\n",
              "      <td>151</td>\n",
              "      <td>0</td>\n",
              "      <td>2</td>\n",
              "      <td>...</td>\n",
              "      <td>0.0</td>\n",
              "      <td>0</td>\n",
              "      <td>0</td>\n",
              "      <td>151.0</td>\n",
              "      <td>0.000000</td>\n",
              "      <td>151</td>\n",
              "      <td>151</td>\n",
              "      <td>Anomaly</td>\n",
              "      <td>Mirai</td>\n",
              "      <td>Mirai-Hostbruteforceg</td>\n",
              "    </tr>\n",
              "    <tr>\n",
              "      <th>4</th>\n",
              "      <td>192.168.0.1-239.255.255.250-36763-1900-17</td>\n",
              "      <td>192.168.0.1</td>\n",
              "      <td>36763</td>\n",
              "      <td>239.255.255.250</td>\n",
              "      <td>1900</td>\n",
              "      <td>17</td>\n",
              "      <td>10/9/2019 1:41</td>\n",
              "      <td>153</td>\n",
              "      <td>2</td>\n",
              "      <td>1</td>\n",
              "      <td>...</td>\n",
              "      <td>0.0</td>\n",
              "      <td>0</td>\n",
              "      <td>0</td>\n",
              "      <td>76.5</td>\n",
              "      <td>0.707107</td>\n",
              "      <td>77</td>\n",
              "      <td>76</td>\n",
              "      <td>Anomaly</td>\n",
              "      <td>Mirai</td>\n",
              "      <td>Mirai-Hostbruteforceg</td>\n",
              "    </tr>\n",
              "  </tbody>\n",
              "</table>\n",
              "<p>5 rows × 86 columns</p>\n",
              "</div>\n",
              "    <div class=\"colab-df-buttons\">\n",
              "\n",
              "  <div class=\"colab-df-container\">\n",
              "    <button class=\"colab-df-convert\" onclick=\"convertToInteractive('df-d1eebcaf-c1c4-429b-8b21-3fdfed23cea7')\"\n",
              "            title=\"Convert this dataframe to an interactive table.\"\n",
              "            style=\"display:none;\">\n",
              "\n",
              "  <svg xmlns=\"http://www.w3.org/2000/svg\" height=\"24px\" viewBox=\"0 -960 960 960\">\n",
              "    <path d=\"M120-120v-720h720v720H120Zm60-500h600v-160H180v160Zm220 220h160v-160H400v160Zm0 220h160v-160H400v160ZM180-400h160v-160H180v160Zm440 0h160v-160H620v160ZM180-180h160v-160H180v160Zm440 0h160v-160H620v160Z\"/>\n",
              "  </svg>\n",
              "    </button>\n",
              "\n",
              "  <style>\n",
              "    .colab-df-container {\n",
              "      display:flex;\n",
              "      gap: 12px;\n",
              "    }\n",
              "\n",
              "    .colab-df-convert {\n",
              "      background-color: #E8F0FE;\n",
              "      border: none;\n",
              "      border-radius: 50%;\n",
              "      cursor: pointer;\n",
              "      display: none;\n",
              "      fill: #1967D2;\n",
              "      height: 32px;\n",
              "      padding: 0 0 0 0;\n",
              "      width: 32px;\n",
              "    }\n",
              "\n",
              "    .colab-df-convert:hover {\n",
              "      background-color: #E2EBFA;\n",
              "      box-shadow: 0px 1px 2px rgba(60, 64, 67, 0.3), 0px 1px 3px 1px rgba(60, 64, 67, 0.15);\n",
              "      fill: #174EA6;\n",
              "    }\n",
              "\n",
              "    .colab-df-buttons div {\n",
              "      margin-bottom: 4px;\n",
              "    }\n",
              "\n",
              "    [theme=dark] .colab-df-convert {\n",
              "      background-color: #3B4455;\n",
              "      fill: #D2E3FC;\n",
              "    }\n",
              "\n",
              "    [theme=dark] .colab-df-convert:hover {\n",
              "      background-color: #434B5C;\n",
              "      box-shadow: 0px 1px 3px 1px rgba(0, 0, 0, 0.15);\n",
              "      filter: drop-shadow(0px 1px 2px rgba(0, 0, 0, 0.3));\n",
              "      fill: #FFFFFF;\n",
              "    }\n",
              "  </style>\n",
              "\n",
              "    <script>\n",
              "      const buttonEl =\n",
              "        document.querySelector('#df-d1eebcaf-c1c4-429b-8b21-3fdfed23cea7 button.colab-df-convert');\n",
              "      buttonEl.style.display =\n",
              "        google.colab.kernel.accessAllowed ? 'block' : 'none';\n",
              "\n",
              "      async function convertToInteractive(key) {\n",
              "        const element = document.querySelector('#df-d1eebcaf-c1c4-429b-8b21-3fdfed23cea7');\n",
              "        const dataTable =\n",
              "          await google.colab.kernel.invokeFunction('convertToInteractive',\n",
              "                                                    [key], {});\n",
              "        if (!dataTable) return;\n",
              "\n",
              "        const docLinkHtml = 'Like what you see? Visit the ' +\n",
              "          '<a target=\"_blank\" href=https://colab.research.google.com/notebooks/data_table.ipynb>data table notebook</a>'\n",
              "          + ' to learn more about interactive tables.';\n",
              "        element.innerHTML = '';\n",
              "        dataTable['output_type'] = 'display_data';\n",
              "        await google.colab.output.renderOutput(dataTable, element);\n",
              "        const docLink = document.createElement('div');\n",
              "        docLink.innerHTML = docLinkHtml;\n",
              "        element.appendChild(docLink);\n",
              "      }\n",
              "    </script>\n",
              "  </div>\n",
              "\n",
              "\n",
              "<div id=\"df-5388f69b-0505-40ab-944a-efd723bd4278\">\n",
              "  <button class=\"colab-df-quickchart\" onclick=\"quickchart('df-5388f69b-0505-40ab-944a-efd723bd4278')\"\n",
              "            title=\"Suggest charts.\"\n",
              "            style=\"display:none;\">\n",
              "\n",
              "<svg xmlns=\"http://www.w3.org/2000/svg\" height=\"24px\"viewBox=\"0 0 24 24\"\n",
              "     width=\"24px\">\n",
              "    <g>\n",
              "        <path d=\"M19 3H5c-1.1 0-2 .9-2 2v14c0 1.1.9 2 2 2h14c1.1 0 2-.9 2-2V5c0-1.1-.9-2-2-2zM9 17H7v-7h2v7zm4 0h-2V7h2v10zm4 0h-2v-4h2v4z\"/>\n",
              "    </g>\n",
              "</svg>\n",
              "  </button>\n",
              "\n",
              "<style>\n",
              "  .colab-df-quickchart {\n",
              "      --bg-color: #E8F0FE;\n",
              "      --fill-color: #1967D2;\n",
              "      --hover-bg-color: #E2EBFA;\n",
              "      --hover-fill-color: #174EA6;\n",
              "      --disabled-fill-color: #AAA;\n",
              "      --disabled-bg-color: #DDD;\n",
              "  }\n",
              "\n",
              "  [theme=dark] .colab-df-quickchart {\n",
              "      --bg-color: #3B4455;\n",
              "      --fill-color: #D2E3FC;\n",
              "      --hover-bg-color: #434B5C;\n",
              "      --hover-fill-color: #FFFFFF;\n",
              "      --disabled-bg-color: #3B4455;\n",
              "      --disabled-fill-color: #666;\n",
              "  }\n",
              "\n",
              "  .colab-df-quickchart {\n",
              "    background-color: var(--bg-color);\n",
              "    border: none;\n",
              "    border-radius: 50%;\n",
              "    cursor: pointer;\n",
              "    display: none;\n",
              "    fill: var(--fill-color);\n",
              "    height: 32px;\n",
              "    padding: 0;\n",
              "    width: 32px;\n",
              "  }\n",
              "\n",
              "  .colab-df-quickchart:hover {\n",
              "    background-color: var(--hover-bg-color);\n",
              "    box-shadow: 0 1px 2px rgba(60, 64, 67, 0.3), 0 1px 3px 1px rgba(60, 64, 67, 0.15);\n",
              "    fill: var(--button-hover-fill-color);\n",
              "  }\n",
              "\n",
              "  .colab-df-quickchart-complete:disabled,\n",
              "  .colab-df-quickchart-complete:disabled:hover {\n",
              "    background-color: var(--disabled-bg-color);\n",
              "    fill: var(--disabled-fill-color);\n",
              "    box-shadow: none;\n",
              "  }\n",
              "\n",
              "  .colab-df-spinner {\n",
              "    border: 2px solid var(--fill-color);\n",
              "    border-color: transparent;\n",
              "    border-bottom-color: var(--fill-color);\n",
              "    animation:\n",
              "      spin 1s steps(1) infinite;\n",
              "  }\n",
              "\n",
              "  @keyframes spin {\n",
              "    0% {\n",
              "      border-color: transparent;\n",
              "      border-bottom-color: var(--fill-color);\n",
              "      border-left-color: var(--fill-color);\n",
              "    }\n",
              "    20% {\n",
              "      border-color: transparent;\n",
              "      border-left-color: var(--fill-color);\n",
              "      border-top-color: var(--fill-color);\n",
              "    }\n",
              "    30% {\n",
              "      border-color: transparent;\n",
              "      border-left-color: var(--fill-color);\n",
              "      border-top-color: var(--fill-color);\n",
              "      border-right-color: var(--fill-color);\n",
              "    }\n",
              "    40% {\n",
              "      border-color: transparent;\n",
              "      border-right-color: var(--fill-color);\n",
              "      border-top-color: var(--fill-color);\n",
              "    }\n",
              "    60% {\n",
              "      border-color: transparent;\n",
              "      border-right-color: var(--fill-color);\n",
              "    }\n",
              "    80% {\n",
              "      border-color: transparent;\n",
              "      border-right-color: var(--fill-color);\n",
              "      border-bottom-color: var(--fill-color);\n",
              "    }\n",
              "    90% {\n",
              "      border-color: transparent;\n",
              "      border-bottom-color: var(--fill-color);\n",
              "    }\n",
              "  }\n",
              "</style>\n",
              "\n",
              "  <script>\n",
              "    async function quickchart(key) {\n",
              "      const quickchartButtonEl =\n",
              "        document.querySelector('#' + key + ' button');\n",
              "      quickchartButtonEl.disabled = true;  // To prevent multiple clicks.\n",
              "      quickchartButtonEl.classList.add('colab-df-spinner');\n",
              "      try {\n",
              "        const charts = await google.colab.kernel.invokeFunction(\n",
              "            'suggestCharts', [key], {});\n",
              "      } catch (error) {\n",
              "        console.error('Error during call to suggestCharts:', error);\n",
              "      }\n",
              "      quickchartButtonEl.classList.remove('colab-df-spinner');\n",
              "      quickchartButtonEl.classList.add('colab-df-quickchart-complete');\n",
              "    }\n",
              "    (() => {\n",
              "      let quickchartButtonEl =\n",
              "        document.querySelector('#df-5388f69b-0505-40ab-944a-efd723bd4278 button');\n",
              "      quickchartButtonEl.style.display =\n",
              "        google.colab.kernel.accessAllowed ? 'block' : 'none';\n",
              "    })();\n",
              "  </script>\n",
              "</div>\n",
              "    </div>\n",
              "  </div>\n"
            ]
          },
          "metadata": {},
          "execution_count": 2
        }
      ]
    },
    {
      "cell_type": "code",
      "source": [
        "data.info()"
      ],
      "metadata": {
        "colab": {
          "base_uri": "https://localhost:8080/"
        },
        "id": "nPR6alhsI1Km",
        "outputId": "aee46e9c-200d-4a13-ff76-8a10e2e4a98a"
      },
      "execution_count": null,
      "outputs": [
        {
          "output_type": "stream",
          "name": "stdout",
          "text": [
            "<class 'pandas.core.frame.DataFrame'>\n",
            "RangeIndex: 625783 entries, 0 to 625782\n",
            "Data columns (total 86 columns):\n",
            " #   Column             Non-Null Count   Dtype  \n",
            "---  ------             --------------   -----  \n",
            " 0   Flow_ID            625783 non-null  object \n",
            " 1   Src_IP             625783 non-null  object \n",
            " 2   Src_Port           625783 non-null  int64  \n",
            " 3   Dst_IP             625783 non-null  object \n",
            " 4   Dst_Port           625783 non-null  int64  \n",
            " 5   Protocol           625783 non-null  int64  \n",
            " 6   Timestamp          625783 non-null  object \n",
            " 7   Flow_Duration      625783 non-null  int64  \n",
            " 8   Tot_Fwd_Pkts       625783 non-null  int64  \n",
            " 9   Tot_Bwd_Pkts       625783 non-null  int64  \n",
            " 10  TotLen_Fwd_Pkts    625783 non-null  int64  \n",
            " 11  TotLen_Bwd_Pkts    625783 non-null  int64  \n",
            " 12  Fwd_Pkt_Len_Max    625783 non-null  int64  \n",
            " 13  Fwd_Pkt_Len_Min    625783 non-null  int64  \n",
            " 14  Fwd_Pkt_Len_Mean   625783 non-null  float64\n",
            " 15  Fwd_Pkt_Len_Std    625783 non-null  float64\n",
            " 16  Bwd_Pkt_Len_Max    625783 non-null  int64  \n",
            " 17  Bwd_Pkt_Len_Min    625783 non-null  int64  \n",
            " 18  Bwd_Pkt_Len_Mean   625783 non-null  float64\n",
            " 19  Bwd_Pkt_Len_Std    625783 non-null  float64\n",
            " 20  Flow_Byts/s        625783 non-null  float64\n",
            " 21  Flow_Pkts/s        625783 non-null  float64\n",
            " 22  Flow_IAT_Mean      625783 non-null  float64\n",
            " 23  Flow_IAT_Std       625783 non-null  float64\n",
            " 24  Flow_IAT_Max       625783 non-null  int64  \n",
            " 25  Flow_IAT_Min       625783 non-null  int64  \n",
            " 26  Fwd_IAT_Tot        625783 non-null  int64  \n",
            " 27  Fwd_IAT_Mean       625783 non-null  float64\n",
            " 28  Bwd_IAT_Mean       625783 non-null  float64\n",
            " 29  Fwd_IAT_Max        625783 non-null  int64  \n",
            " 30  Fwd_IAT_Min        625783 non-null  int64  \n",
            " 31  Bwd_IAT_Tot        625783 non-null  int64  \n",
            " 32  Bwd_IAT_Mean.1     625783 non-null  float64\n",
            " 33  Bwd_IAT_Std        625783 non-null  float64\n",
            " 34  Bwd_IAT_Max        625783 non-null  int64  \n",
            " 35  Bwd_IAT_Min        625783 non-null  int64  \n",
            " 36  Fwd_PSH_Flags      625783 non-null  int64  \n",
            " 37  Bwd_PSH_Flags      625783 non-null  int64  \n",
            " 38  Fwd_URG_Flags      625783 non-null  int64  \n",
            " 39  Bwd_URG_Flags      625783 non-null  int64  \n",
            " 40  Fwd_Header_Len     625783 non-null  int64  \n",
            " 41  Bwd_Header_Len     625783 non-null  int64  \n",
            " 42  Fwd_Pkts/s         625783 non-null  float64\n",
            " 43  Bwd_Pkts/s         625783 non-null  float64\n",
            " 44  Pkt_Len_Min        625783 non-null  int64  \n",
            " 45  Pkt_Len_Max        625783 non-null  int64  \n",
            " 46  Pkt_Len_Mean       625783 non-null  float64\n",
            " 47  Pkt_Len_Std        625783 non-null  float64\n",
            " 48  Pkt_Len_Var        625783 non-null  float64\n",
            " 49  FIN_Flag_Cnt       625783 non-null  int64  \n",
            " 50  SYN_Flag_Cnt       625783 non-null  int64  \n",
            " 51  RST_Flag_Cnt       625783 non-null  int64  \n",
            " 52  PSH_Flag_Cnt       625783 non-null  int64  \n",
            " 53  ACK_Flag_Cnt       625783 non-null  int64  \n",
            " 54  URG_Flag_Cnt       625783 non-null  int64  \n",
            " 55  CWE_Flag_Count     625783 non-null  int64  \n",
            " 56  ECE_Flag_Cnt       625783 non-null  int64  \n",
            " 57  Down/Up_Ratio      625783 non-null  int64  \n",
            " 58  Pkt_Size_Avg       625783 non-null  float64\n",
            " 59  Fwd_Seg_Size_Avg   625783 non-null  float64\n",
            " 60  Bwd_Seg_Size_Avg   625783 non-null  float64\n",
            " 61  Fwd_Byts/b_Avg     625783 non-null  int64  \n",
            " 62  Fwd_Pkts/b_Avg     625783 non-null  int64  \n",
            " 63  Fwd_Blk_Rate_Avg   625783 non-null  int64  \n",
            " 64  Bwd_Byts/b_Avg     625783 non-null  int64  \n",
            " 65  Bwd_Pkts/b_Avg     625783 non-null  int64  \n",
            " 66  Bwd_Blk_Rate_Avg   625783 non-null  int64  \n",
            " 67  Subflow_Fwd_Pkts   625783 non-null  int64  \n",
            " 68  Subflow_Fwd_Byts   625783 non-null  int64  \n",
            " 69  Subflow_Bwd_Pkts   625783 non-null  int64  \n",
            " 70  Subflow_Bwd_Byts   625783 non-null  int64  \n",
            " 71  Init_Fwd_Win_Byts  625783 non-null  int64  \n",
            " 72  Init_Bwd_Win_Byts  625783 non-null  int64  \n",
            " 73  Fwd_Act_Data_Pkts  625783 non-null  int64  \n",
            " 74  Fwd_Seg_Size_Min   625783 non-null  int64  \n",
            " 75  Active_Mean        625783 non-null  float64\n",
            " 76  Active_Std         625783 non-null  float64\n",
            " 77  Active_Max         625783 non-null  int64  \n",
            " 78  Active_Min         625783 non-null  int64  \n",
            " 79  Idle_Mean          625783 non-null  float64\n",
            " 80  Idle_Std           625783 non-null  float64\n",
            " 81  Idle_Max           625783 non-null  int64  \n",
            " 82  Idle_Min           625783 non-null  int64  \n",
            " 83  Label              625783 non-null  object \n",
            " 84  Cat                625783 non-null  object \n",
            " 85  Sub_Cat            625783 non-null  object \n",
            "dtypes: float64(24), int64(55), object(7)\n",
            "memory usage: 410.6+ MB\n"
          ]
        }
      ]
    },
    {
      "cell_type": "code",
      "source": [
        "data.describe()"
      ],
      "metadata": {
        "colab": {
          "base_uri": "https://localhost:8080/",
          "height": 350
        },
        "id": "puWrxxckJF1w",
        "outputId": "28e73616-1704-4aff-a511-3fa8033e6d65"
      },
      "execution_count": null,
      "outputs": [
        {
          "output_type": "execute_result",
          "data": {
            "text/plain": [
              "            Src_Port       Dst_Port       Protocol  Flow_Duration  \\\n",
              "count  625783.000000  625783.000000  625783.000000  625783.000000   \n",
              "mean    35026.156190   16387.027479       9.971436     635.422865   \n",
              "std     24721.047752   17550.363037       5.379857    3496.740723   \n",
              "min         0.000000       0.000000       0.000000       0.000000   \n",
              "25%      9020.000000    8899.000000       6.000000      76.000000   \n",
              "50%     51991.000000    9020.000000       6.000000     132.000000   \n",
              "75%     56361.000000   10101.000000      17.000000     221.000000   \n",
              "max     65500.000000   65371.000000      17.000000   99984.000000   \n",
              "\n",
              "        Tot_Fwd_Pkts  Tot_Bwd_Pkts  TotLen_Fwd_Pkts  TotLen_Bwd_Pkts  \\\n",
              "count  625783.000000  625783.00000    625783.000000    625783.000000   \n",
              "mean        1.675566       1.46853       570.738980       929.280973   \n",
              "std         4.309970       1.21949      1161.873195      1731.760875   \n",
              "min         0.000000       1.00000         0.000000         0.000000   \n",
              "25%         0.000000       1.00000         0.000000        18.000000   \n",
              "50%         1.000000       1.00000        32.000000       104.000000   \n",
              "75%         2.000000       2.00000      1388.000000      1441.000000   \n",
              "max       186.000000     560.00000    109846.000000    773284.000000   \n",
              "\n",
              "       Fwd_Pkt_Len_Max  Fwd_Pkt_Len_Min  ...  Fwd_Act_Data_Pkts  \\\n",
              "count    625783.000000    625783.000000  ...      625783.000000   \n",
              "mean        392.489726       348.126571  ...           1.509913   \n",
              "std         619.575865       588.161845  ...           4.332737   \n",
              "min           0.000000         0.000000  ...           0.000000   \n",
              "25%           0.000000         0.000000  ...           0.000000   \n",
              "50%          30.000000        30.000000  ...           1.000000   \n",
              "75%        1388.000000       386.000000  ...           1.000000   \n",
              "max        1464.000000      1464.000000  ...         186.000000   \n",
              "\n",
              "       Fwd_Seg_Size_Min    Active_Mean     Active_Std     Active_Max  \\\n",
              "count          625783.0  625783.000000  625783.000000  625783.000000   \n",
              "mean                0.0       3.764405       0.353385       4.248735   \n",
              "std                 0.0      68.064508      20.723370      88.934148   \n",
              "min                 0.0       0.000000       0.000000       0.000000   \n",
              "25%                 0.0       0.000000       0.000000       0.000000   \n",
              "50%                 0.0       0.000000       0.000000       0.000000   \n",
              "75%                 0.0       0.000000       0.000000       0.000000   \n",
              "max                 0.0    9044.625000    8598.658250   26785.000000   \n",
              "\n",
              "          Active_Min      Idle_Mean       Idle_Std       Idle_Max  \\\n",
              "count  625783.000000  625783.000000  625783.000000  625783.000000   \n",
              "mean        3.462159     502.503832      52.403995     561.540512   \n",
              "std        64.111043    2112.957360    1153.184897    2866.497606   \n",
              "min         0.000000       0.000000       0.000000       0.000000   \n",
              "25%         0.000000      73.000000       0.000000      74.000000   \n",
              "50%         0.000000      93.500000       0.000000     114.000000   \n",
              "75%         0.000000     141.000000       1.527525     154.000000   \n",
              "max      6659.000000   99973.000000   67071.906620   99973.000000   \n",
              "\n",
              "            Idle_Min  \n",
              "count  625783.000000  \n",
              "mean      467.264459  \n",
              "std      1931.909971  \n",
              "min         0.000000  \n",
              "25%        71.000000  \n",
              "50%        78.000000  \n",
              "75%       130.000000  \n",
              "max     99973.000000  \n",
              "\n",
              "[8 rows x 79 columns]"
            ],
            "text/html": [
              "\n",
              "  <div id=\"df-fa7b1da0-a1ad-4d4f-ae83-e821c67f6006\" class=\"colab-df-container\">\n",
              "    <div>\n",
              "<style scoped>\n",
              "    .dataframe tbody tr th:only-of-type {\n",
              "        vertical-align: middle;\n",
              "    }\n",
              "\n",
              "    .dataframe tbody tr th {\n",
              "        vertical-align: top;\n",
              "    }\n",
              "\n",
              "    .dataframe thead th {\n",
              "        text-align: right;\n",
              "    }\n",
              "</style>\n",
              "<table border=\"1\" class=\"dataframe\">\n",
              "  <thead>\n",
              "    <tr style=\"text-align: right;\">\n",
              "      <th></th>\n",
              "      <th>Src_Port</th>\n",
              "      <th>Dst_Port</th>\n",
              "      <th>Protocol</th>\n",
              "      <th>Flow_Duration</th>\n",
              "      <th>Tot_Fwd_Pkts</th>\n",
              "      <th>Tot_Bwd_Pkts</th>\n",
              "      <th>TotLen_Fwd_Pkts</th>\n",
              "      <th>TotLen_Bwd_Pkts</th>\n",
              "      <th>Fwd_Pkt_Len_Max</th>\n",
              "      <th>Fwd_Pkt_Len_Min</th>\n",
              "      <th>...</th>\n",
              "      <th>Fwd_Act_Data_Pkts</th>\n",
              "      <th>Fwd_Seg_Size_Min</th>\n",
              "      <th>Active_Mean</th>\n",
              "      <th>Active_Std</th>\n",
              "      <th>Active_Max</th>\n",
              "      <th>Active_Min</th>\n",
              "      <th>Idle_Mean</th>\n",
              "      <th>Idle_Std</th>\n",
              "      <th>Idle_Max</th>\n",
              "      <th>Idle_Min</th>\n",
              "    </tr>\n",
              "  </thead>\n",
              "  <tbody>\n",
              "    <tr>\n",
              "      <th>count</th>\n",
              "      <td>625783.000000</td>\n",
              "      <td>625783.000000</td>\n",
              "      <td>625783.000000</td>\n",
              "      <td>625783.000000</td>\n",
              "      <td>625783.000000</td>\n",
              "      <td>625783.00000</td>\n",
              "      <td>625783.000000</td>\n",
              "      <td>625783.000000</td>\n",
              "      <td>625783.000000</td>\n",
              "      <td>625783.000000</td>\n",
              "      <td>...</td>\n",
              "      <td>625783.000000</td>\n",
              "      <td>625783.0</td>\n",
              "      <td>625783.000000</td>\n",
              "      <td>625783.000000</td>\n",
              "      <td>625783.000000</td>\n",
              "      <td>625783.000000</td>\n",
              "      <td>625783.000000</td>\n",
              "      <td>625783.000000</td>\n",
              "      <td>625783.000000</td>\n",
              "      <td>625783.000000</td>\n",
              "    </tr>\n",
              "    <tr>\n",
              "      <th>mean</th>\n",
              "      <td>35026.156190</td>\n",
              "      <td>16387.027479</td>\n",
              "      <td>9.971436</td>\n",
              "      <td>635.422865</td>\n",
              "      <td>1.675566</td>\n",
              "      <td>1.46853</td>\n",
              "      <td>570.738980</td>\n",
              "      <td>929.280973</td>\n",
              "      <td>392.489726</td>\n",
              "      <td>348.126571</td>\n",
              "      <td>...</td>\n",
              "      <td>1.509913</td>\n",
              "      <td>0.0</td>\n",
              "      <td>3.764405</td>\n",
              "      <td>0.353385</td>\n",
              "      <td>4.248735</td>\n",
              "      <td>3.462159</td>\n",
              "      <td>502.503832</td>\n",
              "      <td>52.403995</td>\n",
              "      <td>561.540512</td>\n",
              "      <td>467.264459</td>\n",
              "    </tr>\n",
              "    <tr>\n",
              "      <th>std</th>\n",
              "      <td>24721.047752</td>\n",
              "      <td>17550.363037</td>\n",
              "      <td>5.379857</td>\n",
              "      <td>3496.740723</td>\n",
              "      <td>4.309970</td>\n",
              "      <td>1.21949</td>\n",
              "      <td>1161.873195</td>\n",
              "      <td>1731.760875</td>\n",
              "      <td>619.575865</td>\n",
              "      <td>588.161845</td>\n",
              "      <td>...</td>\n",
              "      <td>4.332737</td>\n",
              "      <td>0.0</td>\n",
              "      <td>68.064508</td>\n",
              "      <td>20.723370</td>\n",
              "      <td>88.934148</td>\n",
              "      <td>64.111043</td>\n",
              "      <td>2112.957360</td>\n",
              "      <td>1153.184897</td>\n",
              "      <td>2866.497606</td>\n",
              "      <td>1931.909971</td>\n",
              "    </tr>\n",
              "    <tr>\n",
              "      <th>min</th>\n",
              "      <td>0.000000</td>\n",
              "      <td>0.000000</td>\n",
              "      <td>0.000000</td>\n",
              "      <td>0.000000</td>\n",
              "      <td>0.000000</td>\n",
              "      <td>1.00000</td>\n",
              "      <td>0.000000</td>\n",
              "      <td>0.000000</td>\n",
              "      <td>0.000000</td>\n",
              "      <td>0.000000</td>\n",
              "      <td>...</td>\n",
              "      <td>0.000000</td>\n",
              "      <td>0.0</td>\n",
              "      <td>0.000000</td>\n",
              "      <td>0.000000</td>\n",
              "      <td>0.000000</td>\n",
              "      <td>0.000000</td>\n",
              "      <td>0.000000</td>\n",
              "      <td>0.000000</td>\n",
              "      <td>0.000000</td>\n",
              "      <td>0.000000</td>\n",
              "    </tr>\n",
              "    <tr>\n",
              "      <th>25%</th>\n",
              "      <td>9020.000000</td>\n",
              "      <td>8899.000000</td>\n",
              "      <td>6.000000</td>\n",
              "      <td>76.000000</td>\n",
              "      <td>0.000000</td>\n",
              "      <td>1.00000</td>\n",
              "      <td>0.000000</td>\n",
              "      <td>18.000000</td>\n",
              "      <td>0.000000</td>\n",
              "      <td>0.000000</td>\n",
              "      <td>...</td>\n",
              "      <td>0.000000</td>\n",
              "      <td>0.0</td>\n",
              "      <td>0.000000</td>\n",
              "      <td>0.000000</td>\n",
              "      <td>0.000000</td>\n",
              "      <td>0.000000</td>\n",
              "      <td>73.000000</td>\n",
              "      <td>0.000000</td>\n",
              "      <td>74.000000</td>\n",
              "      <td>71.000000</td>\n",
              "    </tr>\n",
              "    <tr>\n",
              "      <th>50%</th>\n",
              "      <td>51991.000000</td>\n",
              "      <td>9020.000000</td>\n",
              "      <td>6.000000</td>\n",
              "      <td>132.000000</td>\n",
              "      <td>1.000000</td>\n",
              "      <td>1.00000</td>\n",
              "      <td>32.000000</td>\n",
              "      <td>104.000000</td>\n",
              "      <td>30.000000</td>\n",
              "      <td>30.000000</td>\n",
              "      <td>...</td>\n",
              "      <td>1.000000</td>\n",
              "      <td>0.0</td>\n",
              "      <td>0.000000</td>\n",
              "      <td>0.000000</td>\n",
              "      <td>0.000000</td>\n",
              "      <td>0.000000</td>\n",
              "      <td>93.500000</td>\n",
              "      <td>0.000000</td>\n",
              "      <td>114.000000</td>\n",
              "      <td>78.000000</td>\n",
              "    </tr>\n",
              "    <tr>\n",
              "      <th>75%</th>\n",
              "      <td>56361.000000</td>\n",
              "      <td>10101.000000</td>\n",
              "      <td>17.000000</td>\n",
              "      <td>221.000000</td>\n",
              "      <td>2.000000</td>\n",
              "      <td>2.00000</td>\n",
              "      <td>1388.000000</td>\n",
              "      <td>1441.000000</td>\n",
              "      <td>1388.000000</td>\n",
              "      <td>386.000000</td>\n",
              "      <td>...</td>\n",
              "      <td>1.000000</td>\n",
              "      <td>0.0</td>\n",
              "      <td>0.000000</td>\n",
              "      <td>0.000000</td>\n",
              "      <td>0.000000</td>\n",
              "      <td>0.000000</td>\n",
              "      <td>141.000000</td>\n",
              "      <td>1.527525</td>\n",
              "      <td>154.000000</td>\n",
              "      <td>130.000000</td>\n",
              "    </tr>\n",
              "    <tr>\n",
              "      <th>max</th>\n",
              "      <td>65500.000000</td>\n",
              "      <td>65371.000000</td>\n",
              "      <td>17.000000</td>\n",
              "      <td>99984.000000</td>\n",
              "      <td>186.000000</td>\n",
              "      <td>560.00000</td>\n",
              "      <td>109846.000000</td>\n",
              "      <td>773284.000000</td>\n",
              "      <td>1464.000000</td>\n",
              "      <td>1464.000000</td>\n",
              "      <td>...</td>\n",
              "      <td>186.000000</td>\n",
              "      <td>0.0</td>\n",
              "      <td>9044.625000</td>\n",
              "      <td>8598.658250</td>\n",
              "      <td>26785.000000</td>\n",
              "      <td>6659.000000</td>\n",
              "      <td>99973.000000</td>\n",
              "      <td>67071.906620</td>\n",
              "      <td>99973.000000</td>\n",
              "      <td>99973.000000</td>\n",
              "    </tr>\n",
              "  </tbody>\n",
              "</table>\n",
              "<p>8 rows × 79 columns</p>\n",
              "</div>\n",
              "    <div class=\"colab-df-buttons\">\n",
              "\n",
              "  <div class=\"colab-df-container\">\n",
              "    <button class=\"colab-df-convert\" onclick=\"convertToInteractive('df-fa7b1da0-a1ad-4d4f-ae83-e821c67f6006')\"\n",
              "            title=\"Convert this dataframe to an interactive table.\"\n",
              "            style=\"display:none;\">\n",
              "\n",
              "  <svg xmlns=\"http://www.w3.org/2000/svg\" height=\"24px\" viewBox=\"0 -960 960 960\">\n",
              "    <path d=\"M120-120v-720h720v720H120Zm60-500h600v-160H180v160Zm220 220h160v-160H400v160Zm0 220h160v-160H400v160ZM180-400h160v-160H180v160Zm440 0h160v-160H620v160ZM180-180h160v-160H180v160Zm440 0h160v-160H620v160Z\"/>\n",
              "  </svg>\n",
              "    </button>\n",
              "\n",
              "  <style>\n",
              "    .colab-df-container {\n",
              "      display:flex;\n",
              "      gap: 12px;\n",
              "    }\n",
              "\n",
              "    .colab-df-convert {\n",
              "      background-color: #E8F0FE;\n",
              "      border: none;\n",
              "      border-radius: 50%;\n",
              "      cursor: pointer;\n",
              "      display: none;\n",
              "      fill: #1967D2;\n",
              "      height: 32px;\n",
              "      padding: 0 0 0 0;\n",
              "      width: 32px;\n",
              "    }\n",
              "\n",
              "    .colab-df-convert:hover {\n",
              "      background-color: #E2EBFA;\n",
              "      box-shadow: 0px 1px 2px rgba(60, 64, 67, 0.3), 0px 1px 3px 1px rgba(60, 64, 67, 0.15);\n",
              "      fill: #174EA6;\n",
              "    }\n",
              "\n",
              "    .colab-df-buttons div {\n",
              "      margin-bottom: 4px;\n",
              "    }\n",
              "\n",
              "    [theme=dark] .colab-df-convert {\n",
              "      background-color: #3B4455;\n",
              "      fill: #D2E3FC;\n",
              "    }\n",
              "\n",
              "    [theme=dark] .colab-df-convert:hover {\n",
              "      background-color: #434B5C;\n",
              "      box-shadow: 0px 1px 3px 1px rgba(0, 0, 0, 0.15);\n",
              "      filter: drop-shadow(0px 1px 2px rgba(0, 0, 0, 0.3));\n",
              "      fill: #FFFFFF;\n",
              "    }\n",
              "  </style>\n",
              "\n",
              "    <script>\n",
              "      const buttonEl =\n",
              "        document.querySelector('#df-fa7b1da0-a1ad-4d4f-ae83-e821c67f6006 button.colab-df-convert');\n",
              "      buttonEl.style.display =\n",
              "        google.colab.kernel.accessAllowed ? 'block' : 'none';\n",
              "\n",
              "      async function convertToInteractive(key) {\n",
              "        const element = document.querySelector('#df-fa7b1da0-a1ad-4d4f-ae83-e821c67f6006');\n",
              "        const dataTable =\n",
              "          await google.colab.kernel.invokeFunction('convertToInteractive',\n",
              "                                                    [key], {});\n",
              "        if (!dataTable) return;\n",
              "\n",
              "        const docLinkHtml = 'Like what you see? Visit the ' +\n",
              "          '<a target=\"_blank\" href=https://colab.research.google.com/notebooks/data_table.ipynb>data table notebook</a>'\n",
              "          + ' to learn more about interactive tables.';\n",
              "        element.innerHTML = '';\n",
              "        dataTable['output_type'] = 'display_data';\n",
              "        await google.colab.output.renderOutput(dataTable, element);\n",
              "        const docLink = document.createElement('div');\n",
              "        docLink.innerHTML = docLinkHtml;\n",
              "        element.appendChild(docLink);\n",
              "      }\n",
              "    </script>\n",
              "  </div>\n",
              "\n",
              "\n",
              "<div id=\"df-b3061887-a8c0-4270-b543-7ba499014f66\">\n",
              "  <button class=\"colab-df-quickchart\" onclick=\"quickchart('df-b3061887-a8c0-4270-b543-7ba499014f66')\"\n",
              "            title=\"Suggest charts.\"\n",
              "            style=\"display:none;\">\n",
              "\n",
              "<svg xmlns=\"http://www.w3.org/2000/svg\" height=\"24px\"viewBox=\"0 0 24 24\"\n",
              "     width=\"24px\">\n",
              "    <g>\n",
              "        <path d=\"M19 3H5c-1.1 0-2 .9-2 2v14c0 1.1.9 2 2 2h14c1.1 0 2-.9 2-2V5c0-1.1-.9-2-2-2zM9 17H7v-7h2v7zm4 0h-2V7h2v10zm4 0h-2v-4h2v4z\"/>\n",
              "    </g>\n",
              "</svg>\n",
              "  </button>\n",
              "\n",
              "<style>\n",
              "  .colab-df-quickchart {\n",
              "      --bg-color: #E8F0FE;\n",
              "      --fill-color: #1967D2;\n",
              "      --hover-bg-color: #E2EBFA;\n",
              "      --hover-fill-color: #174EA6;\n",
              "      --disabled-fill-color: #AAA;\n",
              "      --disabled-bg-color: #DDD;\n",
              "  }\n",
              "\n",
              "  [theme=dark] .colab-df-quickchart {\n",
              "      --bg-color: #3B4455;\n",
              "      --fill-color: #D2E3FC;\n",
              "      --hover-bg-color: #434B5C;\n",
              "      --hover-fill-color: #FFFFFF;\n",
              "      --disabled-bg-color: #3B4455;\n",
              "      --disabled-fill-color: #666;\n",
              "  }\n",
              "\n",
              "  .colab-df-quickchart {\n",
              "    background-color: var(--bg-color);\n",
              "    border: none;\n",
              "    border-radius: 50%;\n",
              "    cursor: pointer;\n",
              "    display: none;\n",
              "    fill: var(--fill-color);\n",
              "    height: 32px;\n",
              "    padding: 0;\n",
              "    width: 32px;\n",
              "  }\n",
              "\n",
              "  .colab-df-quickchart:hover {\n",
              "    background-color: var(--hover-bg-color);\n",
              "    box-shadow: 0 1px 2px rgba(60, 64, 67, 0.3), 0 1px 3px 1px rgba(60, 64, 67, 0.15);\n",
              "    fill: var(--button-hover-fill-color);\n",
              "  }\n",
              "\n",
              "  .colab-df-quickchart-complete:disabled,\n",
              "  .colab-df-quickchart-complete:disabled:hover {\n",
              "    background-color: var(--disabled-bg-color);\n",
              "    fill: var(--disabled-fill-color);\n",
              "    box-shadow: none;\n",
              "  }\n",
              "\n",
              "  .colab-df-spinner {\n",
              "    border: 2px solid var(--fill-color);\n",
              "    border-color: transparent;\n",
              "    border-bottom-color: var(--fill-color);\n",
              "    animation:\n",
              "      spin 1s steps(1) infinite;\n",
              "  }\n",
              "\n",
              "  @keyframes spin {\n",
              "    0% {\n",
              "      border-color: transparent;\n",
              "      border-bottom-color: var(--fill-color);\n",
              "      border-left-color: var(--fill-color);\n",
              "    }\n",
              "    20% {\n",
              "      border-color: transparent;\n",
              "      border-left-color: var(--fill-color);\n",
              "      border-top-color: var(--fill-color);\n",
              "    }\n",
              "    30% {\n",
              "      border-color: transparent;\n",
              "      border-left-color: var(--fill-color);\n",
              "      border-top-color: var(--fill-color);\n",
              "      border-right-color: var(--fill-color);\n",
              "    }\n",
              "    40% {\n",
              "      border-color: transparent;\n",
              "      border-right-color: var(--fill-color);\n",
              "      border-top-color: var(--fill-color);\n",
              "    }\n",
              "    60% {\n",
              "      border-color: transparent;\n",
              "      border-right-color: var(--fill-color);\n",
              "    }\n",
              "    80% {\n",
              "      border-color: transparent;\n",
              "      border-right-color: var(--fill-color);\n",
              "      border-bottom-color: var(--fill-color);\n",
              "    }\n",
              "    90% {\n",
              "      border-color: transparent;\n",
              "      border-bottom-color: var(--fill-color);\n",
              "    }\n",
              "  }\n",
              "</style>\n",
              "\n",
              "  <script>\n",
              "    async function quickchart(key) {\n",
              "      const quickchartButtonEl =\n",
              "        document.querySelector('#' + key + ' button');\n",
              "      quickchartButtonEl.disabled = true;  // To prevent multiple clicks.\n",
              "      quickchartButtonEl.classList.add('colab-df-spinner');\n",
              "      try {\n",
              "        const charts = await google.colab.kernel.invokeFunction(\n",
              "            'suggestCharts', [key], {});\n",
              "      } catch (error) {\n",
              "        console.error('Error during call to suggestCharts:', error);\n",
              "      }\n",
              "      quickchartButtonEl.classList.remove('colab-df-spinner');\n",
              "      quickchartButtonEl.classList.add('colab-df-quickchart-complete');\n",
              "    }\n",
              "    (() => {\n",
              "      let quickchartButtonEl =\n",
              "        document.querySelector('#df-b3061887-a8c0-4270-b543-7ba499014f66 button');\n",
              "      quickchartButtonEl.style.display =\n",
              "        google.colab.kernel.accessAllowed ? 'block' : 'none';\n",
              "    })();\n",
              "  </script>\n",
              "</div>\n",
              "    </div>\n",
              "  </div>\n"
            ]
          },
          "metadata": {},
          "execution_count": 4
        }
      ]
    },
    {
      "cell_type": "code",
      "source": [
        "data.shape"
      ],
      "metadata": {
        "colab": {
          "base_uri": "https://localhost:8080/"
        },
        "id": "7Aq7Nd-TJJwK",
        "outputId": "0548d9e1-6a61-405f-b3a9-183f99c194ea"
      },
      "execution_count": null,
      "outputs": [
        {
          "output_type": "execute_result",
          "data": {
            "text/plain": [
              "(625783, 86)"
            ]
          },
          "metadata": {},
          "execution_count": 5
        }
      ]
    },
    {
      "cell_type": "code",
      "source": [
        "data.drop(['Flow_ID','Src_IP','Src_Port','Dst_IP','Dst_Port','Protocol','Timestamp','Flow_Byts/s','Flow_Pkts/s'], axis = 1, inplace = True)"
      ],
      "metadata": {
        "id": "bvxL6y-FJOvL"
      },
      "execution_count": null,
      "outputs": []
    },
    {
      "cell_type": "code",
      "source": [
        "data.isnull().sum()"
      ],
      "metadata": {
        "colab": {
          "base_uri": "https://localhost:8080/"
        },
        "id": "dxYllzt3JS77",
        "outputId": "3580fa4c-7bf2-4d19-e6ee-e3b20fb68cd2"
      },
      "execution_count": null,
      "outputs": [
        {
          "output_type": "execute_result",
          "data": {
            "text/plain": [
              "Flow_Duration      0\n",
              "Tot_Fwd_Pkts       0\n",
              "Tot_Bwd_Pkts       0\n",
              "TotLen_Fwd_Pkts    0\n",
              "TotLen_Bwd_Pkts    0\n",
              "                  ..\n",
              "Idle_Max           0\n",
              "Idle_Min           0\n",
              "Label              0\n",
              "Cat                0\n",
              "Sub_Cat            0\n",
              "Length: 77, dtype: int64"
            ]
          },
          "metadata": {},
          "execution_count": 7
        }
      ]
    },
    {
      "cell_type": "code",
      "source": [
        "data.drop_duplicates(inplace = True)"
      ],
      "metadata": {
        "id": "4U7YX22dJVGf"
      },
      "execution_count": null,
      "outputs": []
    },
    {
      "cell_type": "code",
      "source": [
        "data['Cat'].count"
      ],
      "metadata": {
        "colab": {
          "base_uri": "https://localhost:8080/"
        },
        "id": "rPXQQOjHJYls",
        "outputId": "3f419f41-fcf2-45c2-9f40-8925af2ba936"
      },
      "execution_count": null,
      "outputs": [
        {
          "output_type": "execute_result",
          "data": {
            "text/plain": [
              "<bound method Series.count of 0          Mirai\n",
              "1            DoS\n",
              "2           Scan\n",
              "3          Mirai\n",
              "4          Mirai\n",
              "           ...  \n",
              "625753     Mirai\n",
              "625769     Mirai\n",
              "625772     Mirai\n",
              "625778     Mirai\n",
              "625781    Normal\n",
              "Name: Cat, Length: 194250, dtype: object>"
            ]
          },
          "metadata": {},
          "execution_count": 9
        }
      ]
    },
    {
      "cell_type": "code",
      "source": [
        "data['Label'].count"
      ],
      "metadata": {
        "colab": {
          "base_uri": "https://localhost:8080/"
        },
        "id": "-ft6ggr6JcDf",
        "outputId": "e6af5a2e-6439-44f2-810c-b04ac5442112"
      },
      "execution_count": null,
      "outputs": [
        {
          "output_type": "execute_result",
          "data": {
            "text/plain": [
              "<bound method Series.count of 0         Anomaly\n",
              "1         Anomaly\n",
              "2         Anomaly\n",
              "3         Anomaly\n",
              "4         Anomaly\n",
              "           ...   \n",
              "625753    Anomaly\n",
              "625769    Anomaly\n",
              "625772    Anomaly\n",
              "625778    Anomaly\n",
              "625781     Normal\n",
              "Name: Label, Length: 194250, dtype: object>"
            ]
          },
          "metadata": {},
          "execution_count": 10
        }
      ]
    },
    {
      "cell_type": "code",
      "source": [
        "data.nunique()"
      ],
      "metadata": {
        "colab": {
          "base_uri": "https://localhost:8080/"
        },
        "id": "Pu3FV9ndJel5",
        "outputId": "8fd16b9e-5200-4558-c579-8300abc21edf"
      },
      "execution_count": null,
      "outputs": [
        {
          "output_type": "execute_result",
          "data": {
            "text/plain": [
              "Flow_Duration      12670\n",
              "Tot_Fwd_Pkts         116\n",
              "Tot_Bwd_Pkts          42\n",
              "TotLen_Fwd_Pkts     2479\n",
              "TotLen_Bwd_Pkts     2612\n",
              "                   ...  \n",
              "Idle_Max           11956\n",
              "Idle_Min           10872\n",
              "Label                  2\n",
              "Cat                    5\n",
              "Sub_Cat                9\n",
              "Length: 77, dtype: int64"
            ]
          },
          "metadata": {},
          "execution_count": 11
        }
      ]
    },
    {
      "cell_type": "markdown",
      "source": [
        "# **Descriptive Analytics**"
      ],
      "metadata": {
        "id": "_wa3CWqHQhW3"
      }
    },
    {
      "cell_type": "markdown",
      "source": [
        "# **Numaric**"
      ],
      "metadata": {
        "id": "DveqixvBJr66"
      }
    },
    {
      "cell_type": "markdown",
      "source": [
        "# Meaures of Central Tendency"
      ],
      "metadata": {
        "id": "ITTKQiTNJzvI"
      }
    },
    {
      "cell_type": "code",
      "source": [
        "#mean\n",
        "\n",
        "print('mean:')\n",
        "print(data['Flow_Duration'].mean())"
      ],
      "metadata": {
        "colab": {
          "base_uri": "https://localhost:8080/"
        },
        "id": "oF6Is1ilJ2OF",
        "outputId": "91a06337-ddcc-4776-89a8-3ecc7e5d76e7"
      },
      "execution_count": null,
      "outputs": [
        {
          "output_type": "stream",
          "name": "stdout",
          "text": [
            "mean:\n",
            "1139.1954903474902\n"
          ]
        }
      ]
    },
    {
      "cell_type": "code",
      "source": [
        "#median\n",
        "\n",
        "print('median:')\n",
        "print(data['Flow_Duration'].median)"
      ],
      "metadata": {
        "colab": {
          "base_uri": "https://localhost:8080/"
        },
        "id": "q97Y-GTsJwBr",
        "outputId": "e6be55d6-dfd3-4cf4-c50a-7686cd1cfd69"
      },
      "execution_count": null,
      "outputs": [
        {
          "output_type": "stream",
          "name": "stdout",
          "text": [
            "median:\n",
            "<bound method NDFrame._add_numeric_operations.<locals>.median of 0           75\n",
            "1         5310\n",
            "2          141\n",
            "3          151\n",
            "4          153\n",
            "          ... \n",
            "625753     153\n",
            "625769     236\n",
            "625772      28\n",
            "625778     277\n",
            "625781     240\n",
            "Name: Flow_Duration, Length: 194250, dtype: int64>\n"
          ]
        }
      ]
    },
    {
      "cell_type": "code",
      "source": [
        "data['Flow_Duration'].agg(['mean', 'median', lambda x: x.mode()[0]])   # calculate all measures (mean, median, mod) by using lambda"
      ],
      "metadata": {
        "colab": {
          "base_uri": "https://localhost:8080/"
        },
        "id": "Kjvy1CSFdOeq",
        "outputId": "f4b88ac6-d715-4bfa-ac35-662c9300644a"
      },
      "execution_count": null,
      "outputs": [
        {
          "output_type": "execute_result",
          "data": {
            "text/plain": [
              "mean        1139.19549\n",
              "median       154.00000\n",
              "<lambda>      74.00000\n",
              "Name: Flow_Duration, dtype: float64"
            ]
          },
          "metadata": {},
          "execution_count": 14
        }
      ]
    },
    {
      "cell_type": "markdown",
      "source": [
        "# Measures of Dispersion"
      ],
      "metadata": {
        "id": "bfHU29PdJ-Fx"
      }
    },
    {
      "cell_type": "code",
      "source": [
        "#range\n",
        "\n",
        "print('Range:')   #Range -> max - min\n",
        "print(data['Flow_Duration'].max() - data['Flow_Duration'].min())"
      ],
      "metadata": {
        "colab": {
          "base_uri": "https://localhost:8080/"
        },
        "id": "B5A2ruZDJ8JT",
        "outputId": "3381530b-8034-4729-fbfa-b22d2a913df2"
      },
      "execution_count": null,
      "outputs": [
        {
          "output_type": "stream",
          "name": "stdout",
          "text": [
            "Range:\n",
            "99984\n"
          ]
        }
      ]
    },
    {
      "cell_type": "code",
      "source": [
        "#variance\n",
        "print('variance:')\n",
        "print(data['Flow_Duration'].var())"
      ],
      "metadata": {
        "colab": {
          "base_uri": "https://localhost:8080/"
        },
        "id": "T7nCtqUpKGqv",
        "outputId": "f8e3bf4c-c983-4157-cb59-aa3c59521a80"
      },
      "execution_count": null,
      "outputs": [
        {
          "output_type": "stream",
          "name": "stdout",
          "text": [
            "variance:\n",
            "36131039.25014003\n"
          ]
        }
      ]
    },
    {
      "cell_type": "code",
      "source": [
        "#Quartile\n",
        "\n",
        "print('IQR:')\n",
        "Q1 = data['Flow_Duration'].quantile(0.25)\n",
        "Q3 = data['Flow_Duration'].quantile(0.75)\n",
        "\n",
        "IQR = Q3 - Q1\n",
        "IQR"
      ],
      "metadata": {
        "colab": {
          "base_uri": "https://localhost:8080/"
        },
        "id": "NQzgfrr6KIj8",
        "outputId": "707395d3-3162-4901-cbb1-977456b0614f"
      },
      "execution_count": null,
      "outputs": [
        {
          "output_type": "stream",
          "name": "stdout",
          "text": [
            "IQR:\n"
          ]
        },
        {
          "output_type": "execute_result",
          "data": {
            "text/plain": [
              "197.0"
            ]
          },
          "metadata": {},
          "execution_count": 17
        }
      ]
    },
    {
      "cell_type": "code",
      "source": [
        "#Coefficient of Varaince\n",
        "\n",
        "print('Coefficient')\n",
        "print(data['Flow_Duration'].std()/data['Flow_Duration'].mean(), '%')"
      ],
      "metadata": {
        "colab": {
          "base_uri": "https://localhost:8080/"
        },
        "id": "yzQcEiQJKNRq",
        "outputId": "560531c3-1fe0-4345-92cb-333368f4e1c3"
      },
      "execution_count": null,
      "outputs": [
        {
          "output_type": "stream",
          "name": "stdout",
          "text": [
            "Coefficient\n",
            "5.276451732297708 %\n"
          ]
        }
      ]
    },
    {
      "cell_type": "markdown",
      "source": [
        "# Measures of Position"
      ],
      "metadata": {
        "id": "zMdtT9zOKRkD"
      }
    },
    {
      "cell_type": "code",
      "source": [
        "#Precentile : precentage\n",
        "\n",
        "percentile_10 = data['Flow_Duration'].quantile(0.1)\n",
        "percentile_10"
      ],
      "metadata": {
        "colab": {
          "base_uri": "https://localhost:8080/"
        },
        "id": "at83DREpKPeF",
        "outputId": "894350bd-75b4-4a26-e82a-44b16651ce90"
      },
      "execution_count": null,
      "outputs": [
        {
          "output_type": "execute_result",
          "data": {
            "text/plain": [
              "40.0"
            ]
          },
          "metadata": {},
          "execution_count": 19
        }
      ]
    },
    {
      "cell_type": "code",
      "source": [
        "percentile_60 = data['Flow_Duration'].quantile(0.6)\n",
        "percentile_60"
      ],
      "metadata": {
        "colab": {
          "base_uri": "https://localhost:8080/"
        },
        "id": "qLsLoKJ8Kaj_",
        "outputId": "4bfb4f63-1594-4df1-d81e-2a80b1bfec66"
      },
      "execution_count": null,
      "outputs": [
        {
          "output_type": "execute_result",
          "data": {
            "text/plain": [
              "198.0"
            ]
          },
          "metadata": {},
          "execution_count": 20
        }
      ]
    },
    {
      "cell_type": "code",
      "source": [
        "percentile_90 = data['Flow_Duration'].quantile(0.9)\n",
        "percentile_90"
      ],
      "metadata": {
        "colab": {
          "base_uri": "https://localhost:8080/"
        },
        "id": "y1O0ehqfKjvH",
        "outputId": "2a208388-fdfd-4108-d748-6065418e8187"
      },
      "execution_count": null,
      "outputs": [
        {
          "output_type": "execute_result",
          "data": {
            "text/plain": [
              "903.0"
            ]
          },
          "metadata": {},
          "execution_count": 21
        }
      ]
    },
    {
      "cell_type": "code",
      "source": [
        "#Quartile : quarter\n",
        "\n",
        "data['Flow_Duration'].quantile(0.25)"
      ],
      "metadata": {
        "colab": {
          "base_uri": "https://localhost:8080/"
        },
        "id": "c_au1ejdKqY1",
        "outputId": "850ef89b-036c-4d15-cc41-a1a24d0f909d"
      },
      "execution_count": null,
      "outputs": [
        {
          "output_type": "execute_result",
          "data": {
            "text/plain": [
              "84.0"
            ]
          },
          "metadata": {},
          "execution_count": 22
        }
      ]
    },
    {
      "cell_type": "code",
      "source": [
        "data['Flow_Duration'].quantile(0.50)"
      ],
      "metadata": {
        "colab": {
          "base_uri": "https://localhost:8080/"
        },
        "id": "AemPsehCKtEQ",
        "outputId": "f187f6d1-4306-4aae-9982-e5b8c2aa2349"
      },
      "execution_count": null,
      "outputs": [
        {
          "output_type": "execute_result",
          "data": {
            "text/plain": [
              "154.0"
            ]
          },
          "metadata": {},
          "execution_count": 23
        }
      ]
    },
    {
      "cell_type": "code",
      "source": [
        "data['Flow_Duration'].quantile(0.75)"
      ],
      "metadata": {
        "colab": {
          "base_uri": "https://localhost:8080/"
        },
        "id": "lQ3IW6f_KvvX",
        "outputId": "f1cd1efb-1a70-42c9-a7d0-76c3775cd9cb"
      },
      "execution_count": null,
      "outputs": [
        {
          "output_type": "execute_result",
          "data": {
            "text/plain": [
              "281.0"
            ]
          },
          "metadata": {},
          "execution_count": 24
        }
      ]
    },
    {
      "cell_type": "code",
      "source": [
        "#Decile : decimal\n",
        "decile_perecentages = range(0, 100, 10)\n",
        "decile_values = data['Flow_Duration'].quantile([p/100 for p in decile_perecentages])\n",
        "\n",
        "print('Deciles Follow_Duration values:', decile_values)"
      ],
      "metadata": {
        "colab": {
          "base_uri": "https://localhost:8080/"
        },
        "id": "cFcaOFH6K0wF",
        "outputId": "41c3bf4c-d3fd-44a2-9c1b-394c8fa03a9e"
      },
      "execution_count": null,
      "outputs": [
        {
          "output_type": "stream",
          "name": "stdout",
          "text": [
            "Deciles Follow_Duration values: 0.0      0.0\n",
            "0.1     40.0\n",
            "0.2     76.0\n",
            "0.3    115.0\n",
            "0.4    142.0\n",
            "0.5    154.0\n",
            "0.6    198.0\n",
            "0.7    259.0\n",
            "0.8    333.0\n",
            "0.9    903.0\n",
            "Name: Flow_Duration, dtype: float64\n"
          ]
        }
      ]
    },
    {
      "cell_type": "code",
      "source": [
        "# Z-score : (x - mean) / std (standerd deviation)\n",
        "mean = data['Flow_Duration'].mean()\n",
        "std = data['Flow_Duration'].std()\n",
        "data['Z-score'] = (data['Flow_Duration'] - mean) / std\n",
        "data['Z-score']\n",
        "data.head()"
      ],
      "metadata": {
        "colab": {
          "base_uri": "https://localhost:8080/",
          "height": 325
        },
        "id": "io3EULxDK7fO",
        "outputId": "0db33bbd-18a9-4e01-9d7c-b01aaa5307ee"
      },
      "execution_count": null,
      "outputs": [
        {
          "output_type": "execute_result",
          "data": {
            "text/plain": [
              "   Flow_Duration  Tot_Fwd_Pkts  Tot_Bwd_Pkts  TotLen_Fwd_Pkts  \\\n",
              "0             75             1             1              982   \n",
              "1           5310             1             2                0   \n",
              "2            141             0             3                0   \n",
              "3            151             0             2                0   \n",
              "4            153             2             1              886   \n",
              "\n",
              "   TotLen_Bwd_Pkts  Fwd_Pkt_Len_Max  Fwd_Pkt_Len_Min  Fwd_Pkt_Len_Mean  \\\n",
              "0             1430              982              982             982.0   \n",
              "1                0                0                0               0.0   \n",
              "2             2806                0                0               0.0   \n",
              "3             2776                0                0               0.0   \n",
              "4              420              452              434             443.0   \n",
              "\n",
              "   Fwd_Pkt_Len_Std  Bwd_Pkt_Len_Max  ...  Active_Max  Active_Min  Idle_Mean  \\\n",
              "0         0.000000             1430  ...           0           0       75.0   \n",
              "1         0.000000                0  ...           0           0     2655.0   \n",
              "2         0.000000             1388  ...           0           0       70.5   \n",
              "3         0.000000             1388  ...           0           0      151.0   \n",
              "4        12.727922              420  ...           0           0       76.5   \n",
              "\n",
              "      Idle_Std  Idle_Max  Idle_Min    Label    Cat                Sub_Cat  \\\n",
              "0     0.000000        75        75  Anomaly  Mirai      Mirai-Ackflooding   \n",
              "1  2261.327486      4254      1056  Anomaly    DoS        DoS-Synflooding   \n",
              "2     0.707107        71        70  Anomaly   Scan           Scan Port OS   \n",
              "3     0.000000       151       151  Anomaly  Mirai  Mirai-Hostbruteforceg   \n",
              "4     0.707107        77        76  Anomaly  Mirai  Mirai-Hostbruteforceg   \n",
              "\n",
              "    Z-score  \n",
              "0 -0.177044  \n",
              "1  0.693872  \n",
              "2 -0.166064  \n",
              "3 -0.164400  \n",
              "4 -0.164068  \n",
              "\n",
              "[5 rows x 78 columns]"
            ],
            "text/html": [
              "\n",
              "  <div id=\"df-d99905cc-011d-4d9d-a54f-7fb1ffa1ad83\" class=\"colab-df-container\">\n",
              "    <div>\n",
              "<style scoped>\n",
              "    .dataframe tbody tr th:only-of-type {\n",
              "        vertical-align: middle;\n",
              "    }\n",
              "\n",
              "    .dataframe tbody tr th {\n",
              "        vertical-align: top;\n",
              "    }\n",
              "\n",
              "    .dataframe thead th {\n",
              "        text-align: right;\n",
              "    }\n",
              "</style>\n",
              "<table border=\"1\" class=\"dataframe\">\n",
              "  <thead>\n",
              "    <tr style=\"text-align: right;\">\n",
              "      <th></th>\n",
              "      <th>Flow_Duration</th>\n",
              "      <th>Tot_Fwd_Pkts</th>\n",
              "      <th>Tot_Bwd_Pkts</th>\n",
              "      <th>TotLen_Fwd_Pkts</th>\n",
              "      <th>TotLen_Bwd_Pkts</th>\n",
              "      <th>Fwd_Pkt_Len_Max</th>\n",
              "      <th>Fwd_Pkt_Len_Min</th>\n",
              "      <th>Fwd_Pkt_Len_Mean</th>\n",
              "      <th>Fwd_Pkt_Len_Std</th>\n",
              "      <th>Bwd_Pkt_Len_Max</th>\n",
              "      <th>...</th>\n",
              "      <th>Active_Max</th>\n",
              "      <th>Active_Min</th>\n",
              "      <th>Idle_Mean</th>\n",
              "      <th>Idle_Std</th>\n",
              "      <th>Idle_Max</th>\n",
              "      <th>Idle_Min</th>\n",
              "      <th>Label</th>\n",
              "      <th>Cat</th>\n",
              "      <th>Sub_Cat</th>\n",
              "      <th>Z-score</th>\n",
              "    </tr>\n",
              "  </thead>\n",
              "  <tbody>\n",
              "    <tr>\n",
              "      <th>0</th>\n",
              "      <td>75</td>\n",
              "      <td>1</td>\n",
              "      <td>1</td>\n",
              "      <td>982</td>\n",
              "      <td>1430</td>\n",
              "      <td>982</td>\n",
              "      <td>982</td>\n",
              "      <td>982.0</td>\n",
              "      <td>0.000000</td>\n",
              "      <td>1430</td>\n",
              "      <td>...</td>\n",
              "      <td>0</td>\n",
              "      <td>0</td>\n",
              "      <td>75.0</td>\n",
              "      <td>0.000000</td>\n",
              "      <td>75</td>\n",
              "      <td>75</td>\n",
              "      <td>Anomaly</td>\n",
              "      <td>Mirai</td>\n",
              "      <td>Mirai-Ackflooding</td>\n",
              "      <td>-0.177044</td>\n",
              "    </tr>\n",
              "    <tr>\n",
              "      <th>1</th>\n",
              "      <td>5310</td>\n",
              "      <td>1</td>\n",
              "      <td>2</td>\n",
              "      <td>0</td>\n",
              "      <td>0</td>\n",
              "      <td>0</td>\n",
              "      <td>0</td>\n",
              "      <td>0.0</td>\n",
              "      <td>0.000000</td>\n",
              "      <td>0</td>\n",
              "      <td>...</td>\n",
              "      <td>0</td>\n",
              "      <td>0</td>\n",
              "      <td>2655.0</td>\n",
              "      <td>2261.327486</td>\n",
              "      <td>4254</td>\n",
              "      <td>1056</td>\n",
              "      <td>Anomaly</td>\n",
              "      <td>DoS</td>\n",
              "      <td>DoS-Synflooding</td>\n",
              "      <td>0.693872</td>\n",
              "    </tr>\n",
              "    <tr>\n",
              "      <th>2</th>\n",
              "      <td>141</td>\n",
              "      <td>0</td>\n",
              "      <td>3</td>\n",
              "      <td>0</td>\n",
              "      <td>2806</td>\n",
              "      <td>0</td>\n",
              "      <td>0</td>\n",
              "      <td>0.0</td>\n",
              "      <td>0.000000</td>\n",
              "      <td>1388</td>\n",
              "      <td>...</td>\n",
              "      <td>0</td>\n",
              "      <td>0</td>\n",
              "      <td>70.5</td>\n",
              "      <td>0.707107</td>\n",
              "      <td>71</td>\n",
              "      <td>70</td>\n",
              "      <td>Anomaly</td>\n",
              "      <td>Scan</td>\n",
              "      <td>Scan Port OS</td>\n",
              "      <td>-0.166064</td>\n",
              "    </tr>\n",
              "    <tr>\n",
              "      <th>3</th>\n",
              "      <td>151</td>\n",
              "      <td>0</td>\n",
              "      <td>2</td>\n",
              "      <td>0</td>\n",
              "      <td>2776</td>\n",
              "      <td>0</td>\n",
              "      <td>0</td>\n",
              "      <td>0.0</td>\n",
              "      <td>0.000000</td>\n",
              "      <td>1388</td>\n",
              "      <td>...</td>\n",
              "      <td>0</td>\n",
              "      <td>0</td>\n",
              "      <td>151.0</td>\n",
              "      <td>0.000000</td>\n",
              "      <td>151</td>\n",
              "      <td>151</td>\n",
              "      <td>Anomaly</td>\n",
              "      <td>Mirai</td>\n",
              "      <td>Mirai-Hostbruteforceg</td>\n",
              "      <td>-0.164400</td>\n",
              "    </tr>\n",
              "    <tr>\n",
              "      <th>4</th>\n",
              "      <td>153</td>\n",
              "      <td>2</td>\n",
              "      <td>1</td>\n",
              "      <td>886</td>\n",
              "      <td>420</td>\n",
              "      <td>452</td>\n",
              "      <td>434</td>\n",
              "      <td>443.0</td>\n",
              "      <td>12.727922</td>\n",
              "      <td>420</td>\n",
              "      <td>...</td>\n",
              "      <td>0</td>\n",
              "      <td>0</td>\n",
              "      <td>76.5</td>\n",
              "      <td>0.707107</td>\n",
              "      <td>77</td>\n",
              "      <td>76</td>\n",
              "      <td>Anomaly</td>\n",
              "      <td>Mirai</td>\n",
              "      <td>Mirai-Hostbruteforceg</td>\n",
              "      <td>-0.164068</td>\n",
              "    </tr>\n",
              "  </tbody>\n",
              "</table>\n",
              "<p>5 rows × 78 columns</p>\n",
              "</div>\n",
              "    <div class=\"colab-df-buttons\">\n",
              "\n",
              "  <div class=\"colab-df-container\">\n",
              "    <button class=\"colab-df-convert\" onclick=\"convertToInteractive('df-d99905cc-011d-4d9d-a54f-7fb1ffa1ad83')\"\n",
              "            title=\"Convert this dataframe to an interactive table.\"\n",
              "            style=\"display:none;\">\n",
              "\n",
              "  <svg xmlns=\"http://www.w3.org/2000/svg\" height=\"24px\" viewBox=\"0 -960 960 960\">\n",
              "    <path d=\"M120-120v-720h720v720H120Zm60-500h600v-160H180v160Zm220 220h160v-160H400v160Zm0 220h160v-160H400v160ZM180-400h160v-160H180v160Zm440 0h160v-160H620v160ZM180-180h160v-160H180v160Zm440 0h160v-160H620v160Z\"/>\n",
              "  </svg>\n",
              "    </button>\n",
              "\n",
              "  <style>\n",
              "    .colab-df-container {\n",
              "      display:flex;\n",
              "      gap: 12px;\n",
              "    }\n",
              "\n",
              "    .colab-df-convert {\n",
              "      background-color: #E8F0FE;\n",
              "      border: none;\n",
              "      border-radius: 50%;\n",
              "      cursor: pointer;\n",
              "      display: none;\n",
              "      fill: #1967D2;\n",
              "      height: 32px;\n",
              "      padding: 0 0 0 0;\n",
              "      width: 32px;\n",
              "    }\n",
              "\n",
              "    .colab-df-convert:hover {\n",
              "      background-color: #E2EBFA;\n",
              "      box-shadow: 0px 1px 2px rgba(60, 64, 67, 0.3), 0px 1px 3px 1px rgba(60, 64, 67, 0.15);\n",
              "      fill: #174EA6;\n",
              "    }\n",
              "\n",
              "    .colab-df-buttons div {\n",
              "      margin-bottom: 4px;\n",
              "    }\n",
              "\n",
              "    [theme=dark] .colab-df-convert {\n",
              "      background-color: #3B4455;\n",
              "      fill: #D2E3FC;\n",
              "    }\n",
              "\n",
              "    [theme=dark] .colab-df-convert:hover {\n",
              "      background-color: #434B5C;\n",
              "      box-shadow: 0px 1px 3px 1px rgba(0, 0, 0, 0.15);\n",
              "      filter: drop-shadow(0px 1px 2px rgba(0, 0, 0, 0.3));\n",
              "      fill: #FFFFFF;\n",
              "    }\n",
              "  </style>\n",
              "\n",
              "    <script>\n",
              "      const buttonEl =\n",
              "        document.querySelector('#df-d99905cc-011d-4d9d-a54f-7fb1ffa1ad83 button.colab-df-convert');\n",
              "      buttonEl.style.display =\n",
              "        google.colab.kernel.accessAllowed ? 'block' : 'none';\n",
              "\n",
              "      async function convertToInteractive(key) {\n",
              "        const element = document.querySelector('#df-d99905cc-011d-4d9d-a54f-7fb1ffa1ad83');\n",
              "        const dataTable =\n",
              "          await google.colab.kernel.invokeFunction('convertToInteractive',\n",
              "                                                    [key], {});\n",
              "        if (!dataTable) return;\n",
              "\n",
              "        const docLinkHtml = 'Like what you see? Visit the ' +\n",
              "          '<a target=\"_blank\" href=https://colab.research.google.com/notebooks/data_table.ipynb>data table notebook</a>'\n",
              "          + ' to learn more about interactive tables.';\n",
              "        element.innerHTML = '';\n",
              "        dataTable['output_type'] = 'display_data';\n",
              "        await google.colab.output.renderOutput(dataTable, element);\n",
              "        const docLink = document.createElement('div');\n",
              "        docLink.innerHTML = docLinkHtml;\n",
              "        element.appendChild(docLink);\n",
              "      }\n",
              "    </script>\n",
              "  </div>\n",
              "\n",
              "\n",
              "<div id=\"df-80f1bd96-1258-4037-b150-09e344a9f5cf\">\n",
              "  <button class=\"colab-df-quickchart\" onclick=\"quickchart('df-80f1bd96-1258-4037-b150-09e344a9f5cf')\"\n",
              "            title=\"Suggest charts.\"\n",
              "            style=\"display:none;\">\n",
              "\n",
              "<svg xmlns=\"http://www.w3.org/2000/svg\" height=\"24px\"viewBox=\"0 0 24 24\"\n",
              "     width=\"24px\">\n",
              "    <g>\n",
              "        <path d=\"M19 3H5c-1.1 0-2 .9-2 2v14c0 1.1.9 2 2 2h14c1.1 0 2-.9 2-2V5c0-1.1-.9-2-2-2zM9 17H7v-7h2v7zm4 0h-2V7h2v10zm4 0h-2v-4h2v4z\"/>\n",
              "    </g>\n",
              "</svg>\n",
              "  </button>\n",
              "\n",
              "<style>\n",
              "  .colab-df-quickchart {\n",
              "      --bg-color: #E8F0FE;\n",
              "      --fill-color: #1967D2;\n",
              "      --hover-bg-color: #E2EBFA;\n",
              "      --hover-fill-color: #174EA6;\n",
              "      --disabled-fill-color: #AAA;\n",
              "      --disabled-bg-color: #DDD;\n",
              "  }\n",
              "\n",
              "  [theme=dark] .colab-df-quickchart {\n",
              "      --bg-color: #3B4455;\n",
              "      --fill-color: #D2E3FC;\n",
              "      --hover-bg-color: #434B5C;\n",
              "      --hover-fill-color: #FFFFFF;\n",
              "      --disabled-bg-color: #3B4455;\n",
              "      --disabled-fill-color: #666;\n",
              "  }\n",
              "\n",
              "  .colab-df-quickchart {\n",
              "    background-color: var(--bg-color);\n",
              "    border: none;\n",
              "    border-radius: 50%;\n",
              "    cursor: pointer;\n",
              "    display: none;\n",
              "    fill: var(--fill-color);\n",
              "    height: 32px;\n",
              "    padding: 0;\n",
              "    width: 32px;\n",
              "  }\n",
              "\n",
              "  .colab-df-quickchart:hover {\n",
              "    background-color: var(--hover-bg-color);\n",
              "    box-shadow: 0 1px 2px rgba(60, 64, 67, 0.3), 0 1px 3px 1px rgba(60, 64, 67, 0.15);\n",
              "    fill: var(--button-hover-fill-color);\n",
              "  }\n",
              "\n",
              "  .colab-df-quickchart-complete:disabled,\n",
              "  .colab-df-quickchart-complete:disabled:hover {\n",
              "    background-color: var(--disabled-bg-color);\n",
              "    fill: var(--disabled-fill-color);\n",
              "    box-shadow: none;\n",
              "  }\n",
              "\n",
              "  .colab-df-spinner {\n",
              "    border: 2px solid var(--fill-color);\n",
              "    border-color: transparent;\n",
              "    border-bottom-color: var(--fill-color);\n",
              "    animation:\n",
              "      spin 1s steps(1) infinite;\n",
              "  }\n",
              "\n",
              "  @keyframes spin {\n",
              "    0% {\n",
              "      border-color: transparent;\n",
              "      border-bottom-color: var(--fill-color);\n",
              "      border-left-color: var(--fill-color);\n",
              "    }\n",
              "    20% {\n",
              "      border-color: transparent;\n",
              "      border-left-color: var(--fill-color);\n",
              "      border-top-color: var(--fill-color);\n",
              "    }\n",
              "    30% {\n",
              "      border-color: transparent;\n",
              "      border-left-color: var(--fill-color);\n",
              "      border-top-color: var(--fill-color);\n",
              "      border-right-color: var(--fill-color);\n",
              "    }\n",
              "    40% {\n",
              "      border-color: transparent;\n",
              "      border-right-color: var(--fill-color);\n",
              "      border-top-color: var(--fill-color);\n",
              "    }\n",
              "    60% {\n",
              "      border-color: transparent;\n",
              "      border-right-color: var(--fill-color);\n",
              "    }\n",
              "    80% {\n",
              "      border-color: transparent;\n",
              "      border-right-color: var(--fill-color);\n",
              "      border-bottom-color: var(--fill-color);\n",
              "    }\n",
              "    90% {\n",
              "      border-color: transparent;\n",
              "      border-bottom-color: var(--fill-color);\n",
              "    }\n",
              "  }\n",
              "</style>\n",
              "\n",
              "  <script>\n",
              "    async function quickchart(key) {\n",
              "      const quickchartButtonEl =\n",
              "        document.querySelector('#' + key + ' button');\n",
              "      quickchartButtonEl.disabled = true;  // To prevent multiple clicks.\n",
              "      quickchartButtonEl.classList.add('colab-df-spinner');\n",
              "      try {\n",
              "        const charts = await google.colab.kernel.invokeFunction(\n",
              "            'suggestCharts', [key], {});\n",
              "      } catch (error) {\n",
              "        console.error('Error during call to suggestCharts:', error);\n",
              "      }\n",
              "      quickchartButtonEl.classList.remove('colab-df-spinner');\n",
              "      quickchartButtonEl.classList.add('colab-df-quickchart-complete');\n",
              "    }\n",
              "    (() => {\n",
              "      let quickchartButtonEl =\n",
              "        document.querySelector('#df-80f1bd96-1258-4037-b150-09e344a9f5cf button');\n",
              "      quickchartButtonEl.style.display =\n",
              "        google.colab.kernel.accessAllowed ? 'block' : 'none';\n",
              "    })();\n",
              "  </script>\n",
              "</div>\n",
              "    </div>\n",
              "  </div>\n"
            ]
          },
          "metadata": {},
          "execution_count": 26
        }
      ]
    },
    {
      "cell_type": "markdown",
      "source": [
        "# Outlier"
      ],
      "metadata": {
        "id": "Z8bOJElKLLkD"
      }
    },
    {
      "cell_type": "code",
      "source": [
        "# histogram\n",
        "\n",
        "sns.histplot(data['Flow_Duration'],bins= 20)\n",
        "plt.show()"
      ],
      "metadata": {
        "colab": {
          "base_uri": "https://localhost:8080/",
          "height": 450
        },
        "id": "_GFaZf9oLNAc",
        "outputId": "94ce8fba-17bd-4c21-a611-efa8363c2602"
      },
      "execution_count": null,
      "outputs": [
        {
          "output_type": "display_data",
          "data": {
            "text/plain": [
              "<Figure size 640x480 with 1 Axes>"
            ],
            "image/png": "[encoded data removed]"
          },
          "metadata": {}
        }
      ]
    },
    {
      "cell_type": "code",
      "source": [
        "mean = data['Flow_Duration'].mean()\n",
        "std = data['Flow_Duration'].std()\n",
        "data['Z-score'] = (data['Flow_Duration'] - mean) / std\n",
        "data['Z-score']"
      ],
      "metadata": {
        "colab": {
          "base_uri": "https://localhost:8080/"
        },
        "id": "GS2Zo3ngLUNC",
        "outputId": "799fdc2a-baec-43e8-89e8-96376059a26b"
      },
      "execution_count": null,
      "outputs": [
        {
          "output_type": "execute_result",
          "data": {
            "text/plain": [
              "0        -0.177044\n",
              "1         0.693872\n",
              "2        -0.166064\n",
              "3        -0.164400\n",
              "4        -0.164068\n",
              "            ...   \n",
              "625753   -0.164068\n",
              "625769   -0.150259\n",
              "625772   -0.184863\n",
              "625778   -0.143438\n",
              "625781   -0.149594\n",
              "Name: Z-score, Length: 194250, dtype: float64"
            ]
          },
          "metadata": {},
          "execution_count": 28
        }
      ]
    },
    {
      "cell_type": "code",
      "source": [
        "q1 = data['Flow_Duration'].quantile(0.25)\n",
        "q3 = data['Flow_Duration'].quantile(0.75)\n",
        "IQR = q3 - q1\n",
        "\n",
        "data[((data['Flow_Duration'] < q1 - 1.5 * IQR)) | (data['Flow_Duration'] > (q3 + 1.5 * IQR))]"
      ],
      "metadata": {
        "colab": {
          "base_uri": "https://localhost:8080/",
          "height": 617
        },
        "id": "4OpfYmHOLccj",
        "outputId": "df304233-1f0d-4fc2-c424-5978ea5c8ea1"
      },
      "execution_count": null,
      "outputs": [
        {
          "output_type": "execute_result",
          "data": {
            "text/plain": [
              "        Flow_Duration  Tot_Fwd_Pkts  Tot_Bwd_Pkts  TotLen_Fwd_Pkts  \\\n",
              "1                5310             1             2                0   \n",
              "9                6799             0             2                0   \n",
              "15              60431             5             7             5680   \n",
              "38               4125             5             2                0   \n",
              "67              13406             0             2                0   \n",
              "...               ...           ...           ...              ...   \n",
              "625533           2811             0             2                0   \n",
              "625575           6860             0             2                0   \n",
              "625647          89234             8             9              280   \n",
              "625707           6065             0             2                0   \n",
              "625742           2597             1             2                0   \n",
              "\n",
              "        TotLen_Bwd_Pkts  Fwd_Pkt_Len_Max  Fwd_Pkt_Len_Min  Fwd_Pkt_Len_Mean  \\\n",
              "1                     0                0                0               0.0   \n",
              "9                     0                0                0               0.0   \n",
              "15                 1097             1388             1041            1136.0   \n",
              "38                    0                0                0               0.0   \n",
              "67                    0                0                0               0.0   \n",
              "...                 ...              ...              ...               ...   \n",
              "625533                0                0                0               0.0   \n",
              "625575                0                0                0               0.0   \n",
              "625647             4601               40               20              35.0   \n",
              "625707                0                0                0               0.0   \n",
              "625742                0                0                0               0.0   \n",
              "\n",
              "        Fwd_Pkt_Len_Std  Bwd_Pkt_Len_Max  ...  Active_Max  Active_Min  \\\n",
              "1              0.000000                0  ...           0           0   \n",
              "9              0.000000                0  ...           0           0   \n",
              "15           144.461067             1097  ...         898         121   \n",
              "38             0.000000                0  ...        1803        1803   \n",
              "67             0.000000                0  ...           0           0   \n",
              "...                 ...              ...  ...         ...         ...   \n",
              "625533         0.000000                0  ...           0           0   \n",
              "625575         0.000000                0  ...           0           0   \n",
              "625647         9.258201             1065  ...         899         401   \n",
              "625707         0.000000                0  ...           0           0   \n",
              "625742         0.000000                0  ...         220         220   \n",
              "\n",
              "           Idle_Mean      Idle_Std  Idle_Max  Idle_Min    Label  Cat  \\\n",
              "1        2655.000000   2261.327486      4254      1056  Anomaly  DoS   \n",
              "9        6799.000000      0.000000      6799      6799  Anomaly  DoS   \n",
              "15       9708.333333  16525.220150     43394      1394  Anomaly  DoS   \n",
              "38       2322.000000      0.000000      2322      2322  Anomaly  DoS   \n",
              "67      13406.000000      0.000000     13406     13406  Anomaly  DoS   \n",
              "...              ...           ...       ...       ...      ...  ...   \n",
              "625533   2811.000000      0.000000      2811      2811  Anomaly  DoS   \n",
              "625575   6860.000000      0.000000      6860      6860  Anomaly  DoS   \n",
              "625647   8538.100000  11516.658550     30802      1077  Anomaly  DoS   \n",
              "625707   6065.000000      0.000000      6065      6065  Anomaly  DoS   \n",
              "625742   2377.000000      0.000000      2377      2377  Anomaly  DoS   \n",
              "\n",
              "                Sub_Cat    Z-score  \n",
              "1       DoS-Synflooding   0.693872  \n",
              "9       DoS-Synflooding   0.941589  \n",
              "15      DoS-Synflooding   9.864031  \n",
              "38      DoS-Synflooding   0.496731  \n",
              "67      DoS-Synflooding   2.040757  \n",
              "...                 ...        ...  \n",
              "625533  DoS-Synflooding   0.278128  \n",
              "625575  DoS-Synflooding   0.951737  \n",
              "625647  DoS-Synflooding  14.655818  \n",
              "625707  DoS-Synflooding   0.819477  \n",
              "625742  DoS-Synflooding   0.242526  \n",
              "\n",
              "[19868 rows x 78 columns]"
            ],
            "text/html": [
              "\n",
              "  <div id=\"df-89581970-6376-46a9-ba12-28d3d2bfcd77\" class=\"colab-df-container\">\n",
              "    <div>\n",
              "<style scoped>\n",
              "    .dataframe tbody tr th:only-of-type {\n",
              "        vertical-align: middle;\n",
              "    }\n",
              "\n",
              "    .dataframe tbody tr th {\n",
              "        vertical-align: top;\n",
              "    }\n",
              "\n",
              "    .dataframe thead th {\n",
              "        text-align: right;\n",
              "    }\n",
              "</style>\n",
              "<table border=\"1\" class=\"dataframe\">\n",
              "  <thead>\n",
              "    <tr style=\"text-align: right;\">\n",
              "      <th></th>\n",
              "      <th>Flow_Duration</th>\n",
              "      <th>Tot_Fwd_Pkts</th>\n",
              "      <th>Tot_Bwd_Pkts</th>\n",
              "      <th>TotLen_Fwd_Pkts</th>\n",
              "      <th>TotLen_Bwd_Pkts</th>\n",
              "      <th>Fwd_Pkt_Len_Max</th>\n",
              "      <th>Fwd_Pkt_Len_Min</th>\n",
              "      <th>Fwd_Pkt_Len_Mean</th>\n",
              "      <th>Fwd_Pkt_Len_Std</th>\n",
              "      <th>Bwd_Pkt_Len_Max</th>\n",
              "      <th>...</th>\n",
              "      <th>Active_Max</th>\n",
              "      <th>Active_Min</th>\n",
              "      <th>Idle_Mean</th>\n",
              "      <th>Idle_Std</th>\n",
              "      <th>Idle_Max</th>\n",
              "      <th>Idle_Min</th>\n",
              "      <th>Label</th>\n",
              "      <th>Cat</th>\n",
              "      <th>Sub_Cat</th>\n",
              "      <th>Z-score</th>\n",
              "    </tr>\n",
              "  </thead>\n",
              "  <tbody>\n",
              "    <tr>\n",
              "      <th>1</th>\n",
              "      <td>5310</td>\n",
              "      <td>1</td>\n",
              "      <td>2</td>\n",
              "      <td>0</td>\n",
              "      <td>0</td>\n",
              "      <td>0</td>\n",
              "      <td>0</td>\n",
              "      <td>0.0</td>\n",
              "      <td>0.000000</td>\n",
              "      <td>0</td>\n",
              "      <td>...</td>\n",
              "      <td>0</td>\n",
              "      <td>0</td>\n",
              "      <td>2655.000000</td>\n",
              "      <td>2261.327486</td>\n",
              "      <td>4254</td>\n",
              "      <td>1056</td>\n",
              "      <td>Anomaly</td>\n",
              "      <td>DoS</td>\n",
              "      <td>DoS-Synflooding</td>\n",
              "      <td>0.693872</td>\n",
              "    </tr>\n",
              "    <tr>\n",
              "      <th>9</th>\n",
              "      <td>6799</td>\n",
              "      <td>0</td>\n",
              "      <td>2</td>\n",
              "      <td>0</td>\n",
              "      <td>0</td>\n",
              "      <td>0</td>\n",
              "      <td>0</td>\n",
              "      <td>0.0</td>\n",
              "      <td>0.000000</td>\n",
              "      <td>0</td>\n",
              "      <td>...</td>\n",
              "      <td>0</td>\n",
              "      <td>0</td>\n",
              "      <td>6799.000000</td>\n",
              "      <td>0.000000</td>\n",
              "      <td>6799</td>\n",
              "      <td>6799</td>\n",
              "      <td>Anomaly</td>\n",
              "      <td>DoS</td>\n",
              "      <td>DoS-Synflooding</td>\n",
              "      <td>0.941589</td>\n",
              "    </tr>\n",
              "    <tr>\n",
              "      <th>15</th>\n",
              "      <td>60431</td>\n",
              "      <td>5</td>\n",
              "      <td>7</td>\n",
              "      <td>5680</td>\n",
              "      <td>1097</td>\n",
              "      <td>1388</td>\n",
              "      <td>1041</td>\n",
              "      <td>1136.0</td>\n",
              "      <td>144.461067</td>\n",
              "      <td>1097</td>\n",
              "      <td>...</td>\n",
              "      <td>898</td>\n",
              "      <td>121</td>\n",
              "      <td>9708.333333</td>\n",
              "      <td>16525.220150</td>\n",
              "      <td>43394</td>\n",
              "      <td>1394</td>\n",
              "      <td>Anomaly</td>\n",
              "      <td>DoS</td>\n",
              "      <td>DoS-Synflooding</td>\n",
              "      <td>9.864031</td>\n",
              "    </tr>\n",
              "    <tr>\n",
              "      <th>38</th>\n",
              "      <td>4125</td>\n",
              "      <td>5</td>\n",
              "      <td>2</td>\n",
              "      <td>0</td>\n",
              "      <td>0</td>\n",
              "      <td>0</td>\n",
              "      <td>0</td>\n",
              "      <td>0.0</td>\n",
              "      <td>0.000000</td>\n",
              "      <td>0</td>\n",
              "      <td>...</td>\n",
              "      <td>1803</td>\n",
              "      <td>1803</td>\n",
              "      <td>2322.000000</td>\n",
              "      <td>0.000000</td>\n",
              "      <td>2322</td>\n",
              "      <td>2322</td>\n",
              "      <td>Anomaly</td>\n",
              "      <td>DoS</td>\n",
              "      <td>DoS-Synflooding</td>\n",
              "      <td>0.496731</td>\n",
              "    </tr>\n",
              "    <tr>\n",
              "      <th>67</th>\n",
              "      <td>13406</td>\n",
              "      <td>0</td>\n",
              "      <td>2</td>\n",
              "      <td>0</td>\n",
              "      <td>0</td>\n",
              "      <td>0</td>\n",
              "      <td>0</td>\n",
              "      <td>0.0</td>\n",
              "      <td>0.000000</td>\n",
              "      <td>0</td>\n",
              "      <td>...</td>\n",
              "      <td>0</td>\n",
              "      <td>0</td>\n",
              "      <td>13406.000000</td>\n",
              "      <td>0.000000</td>\n",
              "      <td>13406</td>\n",
              "      <td>13406</td>\n",
              "      <td>Anomaly</td>\n",
              "      <td>DoS</td>\n",
              "      <td>DoS-Synflooding</td>\n",
              "      <td>2.040757</td>\n",
              "    </tr>\n",
              "    <tr>\n",
              "      <th>...</th>\n",
              "      <td>...</td>\n",
              "      <td>...</td>\n",
              "      <td>...</td>\n",
              "      <td>...</td>\n",
              "      <td>...</td>\n",
              "      <td>...</td>\n",
              "      <td>...</td>\n",
              "      <td>...</td>\n",
              "      <td>...</td>\n",
              "      <td>...</td>\n",
              "      <td>...</td>\n",
              "      <td>...</td>\n",
              "      <td>...</td>\n",
              "      <td>...</td>\n",
              "      <td>...</td>\n",
              "      <td>...</td>\n",
              "      <td>...</td>\n",
              "      <td>...</td>\n",
              "      <td>...</td>\n",
              "      <td>...</td>\n",
              "      <td>...</td>\n",
              "    </tr>\n",
              "    <tr>\n",
              "      <th>625533</th>\n",
              "      <td>2811</td>\n",
              "      <td>0</td>\n",
              "      <td>2</td>\n",
              "      <td>0</td>\n",
              "      <td>0</td>\n",
              "      <td>0</td>\n",
              "      <td>0</td>\n",
              "      <td>0.0</td>\n",
              "      <td>0.000000</td>\n",
              "      <td>0</td>\n",
              "      <td>...</td>\n",
              "      <td>0</td>\n",
              "      <td>0</td>\n",
              "      <td>2811.000000</td>\n",
              "      <td>0.000000</td>\n",
              "      <td>2811</td>\n",
              "      <td>2811</td>\n",
              "      <td>Anomaly</td>\n",
              "      <td>DoS</td>\n",
              "      <td>DoS-Synflooding</td>\n",
              "      <td>0.278128</td>\n",
              "    </tr>\n",
              "    <tr>\n",
              "      <th>625575</th>\n",
              "      <td>6860</td>\n",
              "      <td>0</td>\n",
              "      <td>2</td>\n",
              "      <td>0</td>\n",
              "      <td>0</td>\n",
              "      <td>0</td>\n",
              "      <td>0</td>\n",
              "      <td>0.0</td>\n",
              "      <td>0.000000</td>\n",
              "      <td>0</td>\n",
              "      <td>...</td>\n",
              "      <td>0</td>\n",
              "      <td>0</td>\n",
              "      <td>6860.000000</td>\n",
              "      <td>0.000000</td>\n",
              "      <td>6860</td>\n",
              "      <td>6860</td>\n",
              "      <td>Anomaly</td>\n",
              "      <td>DoS</td>\n",
              "      <td>DoS-Synflooding</td>\n",
              "      <td>0.951737</td>\n",
              "    </tr>\n",
              "    <tr>\n",
              "      <th>625647</th>\n",
              "      <td>89234</td>\n",
              "      <td>8</td>\n",
              "      <td>9</td>\n",
              "      <td>280</td>\n",
              "      <td>4601</td>\n",
              "      <td>40</td>\n",
              "      <td>20</td>\n",
              "      <td>35.0</td>\n",
              "      <td>9.258201</td>\n",
              "      <td>1065</td>\n",
              "      <td>...</td>\n",
              "      <td>899</td>\n",
              "      <td>401</td>\n",
              "      <td>8538.100000</td>\n",
              "      <td>11516.658550</td>\n",
              "      <td>30802</td>\n",
              "      <td>1077</td>\n",
              "      <td>Anomaly</td>\n",
              "      <td>DoS</td>\n",
              "      <td>DoS-Synflooding</td>\n",
              "      <td>14.655818</td>\n",
              "    </tr>\n",
              "    <tr>\n",
              "      <th>625707</th>\n",
              "      <td>6065</td>\n",
              "      <td>0</td>\n",
              "      <td>2</td>\n",
              "      <td>0</td>\n",
              "      <td>0</td>\n",
              "      <td>0</td>\n",
              "      <td>0</td>\n",
              "      <td>0.0</td>\n",
              "      <td>0.000000</td>\n",
              "      <td>0</td>\n",
              "      <td>...</td>\n",
              "      <td>0</td>\n",
              "      <td>0</td>\n",
              "      <td>6065.000000</td>\n",
              "      <td>0.000000</td>\n",
              "      <td>6065</td>\n",
              "      <td>6065</td>\n",
              "      <td>Anomaly</td>\n",
              "      <td>DoS</td>\n",
              "      <td>DoS-Synflooding</td>\n",
              "      <td>0.819477</td>\n",
              "    </tr>\n",
              "    <tr>\n",
              "      <th>625742</th>\n",
              "      <td>2597</td>\n",
              "      <td>1</td>\n",
              "      <td>2</td>\n",
              "      <td>0</td>\n",
              "      <td>0</td>\n",
              "      <td>0</td>\n",
              "      <td>0</td>\n",
              "      <td>0.0</td>\n",
              "      <td>0.000000</td>\n",
              "      <td>0</td>\n",
              "      <td>...</td>\n",
              "      <td>220</td>\n",
              "      <td>220</td>\n",
              "      <td>2377.000000</td>\n",
              "      <td>0.000000</td>\n",
              "      <td>2377</td>\n",
              "      <td>2377</td>\n",
              "      <td>Anomaly</td>\n",
              "      <td>DoS</td>\n",
              "      <td>DoS-Synflooding</td>\n",
              "      <td>0.242526</td>\n",
              "    </tr>\n",
              "  </tbody>\n",
              "</table>\n",
              "<p>19868 rows × 78 columns</p>\n",
              "</div>\n",
              "    <div class=\"colab-df-buttons\">\n",
              "\n",
              "  <div class=\"colab-df-container\">\n",
              "    <button class=\"colab-df-convert\" onclick=\"convertToInteractive('df-89581970-6376-46a9-ba12-28d3d2bfcd77')\"\n",
              "            title=\"Convert this dataframe to an interactive table.\"\n",
              "            style=\"display:none;\">\n",
              "\n",
              "  <svg xmlns=\"http://www.w3.org/2000/svg\" height=\"24px\" viewBox=\"0 -960 960 960\">\n",
              "    <path d=\"M120-120v-720h720v720H120Zm60-500h600v-160H180v160Zm220 220h160v-160H400v160Zm0 220h160v-160H400v160ZM180-400h160v-160H180v160Zm440 0h160v-160H620v160ZM180-180h160v-160H180v160Zm440 0h160v-160H620v160Z\"/>\n",
              "  </svg>\n",
              "    </button>\n",
              "\n",
              "  <style>\n",
              "    .colab-df-container {\n",
              "      display:flex;\n",
              "      gap: 12px;\n",
              "    }\n",
              "\n",
              "    .colab-df-convert {\n",
              "      background-color: #E8F0FE;\n",
              "      border: none;\n",
              "      border-radius: 50%;\n",
              "      cursor: pointer;\n",
              "      display: none;\n",
              "      fill: #1967D2;\n",
              "      height: 32px;\n",
              "      padding: 0 0 0 0;\n",
              "      width: 32px;\n",
              "    }\n",
              "\n",
              "    .colab-df-convert:hover {\n",
              "      background-color: #E2EBFA;\n",
              "      box-shadow: 0px 1px 2px rgba(60, 64, 67, 0.3), 0px 1px 3px 1px rgba(60, 64, 67, 0.15);\n",
              "      fill: #174EA6;\n",
              "    }\n",
              "\n",
              "    .colab-df-buttons div {\n",
              "      margin-bottom: 4px;\n",
              "    }\n",
              "\n",
              "    [theme=dark] .colab-df-convert {\n",
              "      background-color: #3B4455;\n",
              "      fill: #D2E3FC;\n",
              "    }\n",
              "\n",
              "    [theme=dark] .colab-df-convert:hover {\n",
              "      background-color: #434B5C;\n",
              "      box-shadow: 0px 1px 3px 1px rgba(0, 0, 0, 0.15);\n",
              "      filter: drop-shadow(0px 1px 2px rgba(0, 0, 0, 0.3));\n",
              "      fill: #FFFFFF;\n",
              "    }\n",
              "  </style>\n",
              "\n",
              "    <script>\n",
              "      const buttonEl =\n",
              "        document.querySelector('#df-89581970-6376-46a9-ba12-28d3d2bfcd77 button.colab-df-convert');\n",
              "      buttonEl.style.display =\n",
              "        google.colab.kernel.accessAllowed ? 'block' : 'none';\n",
              "\n",
              "      async function convertToInteractive(key) {\n",
              "        const element = document.querySelector('#df-89581970-6376-46a9-ba12-28d3d2bfcd77');\n",
              "        const dataTable =\n",
              "          await google.colab.kernel.invokeFunction('convertToInteractive',\n",
              "                                                    [key], {});\n",
              "        if (!dataTable) return;\n",
              "\n",
              "        const docLinkHtml = 'Like what you see? Visit the ' +\n",
              "          '<a target=\"_blank\" href=https://colab.research.google.com/notebooks/data_table.ipynb>data table notebook</a>'\n",
              "          + ' to learn more about interactive tables.';\n",
              "        element.innerHTML = '';\n",
              "        dataTable['output_type'] = 'display_data';\n",
              "        await google.colab.output.renderOutput(dataTable, element);\n",
              "        const docLink = document.createElement('div');\n",
              "        docLink.innerHTML = docLinkHtml;\n",
              "        element.appendChild(docLink);\n",
              "      }\n",
              "    </script>\n",
              "  </div>\n",
              "\n",
              "\n",
              "<div id=\"df-0ff59596-1505-4793-a4a7-4e8fff87f771\">\n",
              "  <button class=\"colab-df-quickchart\" onclick=\"quickchart('df-0ff59596-1505-4793-a4a7-4e8fff87f771')\"\n",
              "            title=\"Suggest charts.\"\n",
              "            style=\"display:none;\">\n",
              "\n",
              "<svg xmlns=\"http://www.w3.org/2000/svg\" height=\"24px\"viewBox=\"0 0 24 24\"\n",
              "     width=\"24px\">\n",
              "    <g>\n",
              "        <path d=\"M19 3H5c-1.1 0-2 .9-2 2v14c0 1.1.9 2 2 2h14c1.1 0 2-.9 2-2V5c0-1.1-.9-2-2-2zM9 17H7v-7h2v7zm4 0h-2V7h2v10zm4 0h-2v-4h2v4z\"/>\n",
              "    </g>\n",
              "</svg>\n",
              "  </button>\n",
              "\n",
              "<style>\n",
              "  .colab-df-quickchart {\n",
              "      --bg-color: #E8F0FE;\n",
              "      --fill-color: #1967D2;\n",
              "      --hover-bg-color: #E2EBFA;\n",
              "      --hover-fill-color: #174EA6;\n",
              "      --disabled-fill-color: #AAA;\n",
              "      --disabled-bg-color: #DDD;\n",
              "  }\n",
              "\n",
              "  [theme=dark] .colab-df-quickchart {\n",
              "      --bg-color: #3B4455;\n",
              "      --fill-color: #D2E3FC;\n",
              "      --hover-bg-color: #434B5C;\n",
              "      --hover-fill-color: #FFFFFF;\n",
              "      --disabled-bg-color: #3B4455;\n",
              "      --disabled-fill-color: #666;\n",
              "  }\n",
              "\n",
              "  .colab-df-quickchart {\n",
              "    background-color: var(--bg-color);\n",
              "    border: none;\n",
              "    border-radius: 50%;\n",
              "    cursor: pointer;\n",
              "    display: none;\n",
              "    fill: var(--fill-color);\n",
              "    height: 32px;\n",
              "    padding: 0;\n",
              "    width: 32px;\n",
              "  }\n",
              "\n",
              "  .colab-df-quickchart:hover {\n",
              "    background-color: var(--hover-bg-color);\n",
              "    box-shadow: 0 1px 2px rgba(60, 64, 67, 0.3), 0 1px 3px 1px rgba(60, 64, 67, 0.15);\n",
              "    fill: var(--button-hover-fill-color);\n",
              "  }\n",
              "\n",
              "  .colab-df-quickchart-complete:disabled,\n",
              "  .colab-df-quickchart-complete:disabled:hover {\n",
              "    background-color: var(--disabled-bg-color);\n",
              "    fill: var(--disabled-fill-color);\n",
              "    box-shadow: none;\n",
              "  }\n",
              "\n",
              "  .colab-df-spinner {\n",
              "    border: 2px solid var(--fill-color);\n",
              "    border-color: transparent;\n",
              "    border-bottom-color: var(--fill-color);\n",
              "    animation:\n",
              "      spin 1s steps(1) infinite;\n",
              "  }\n",
              "\n",
              "  @keyframes spin {\n",
              "    0% {\n",
              "      border-color: transparent;\n",
              "      border-bottom-color: var(--fill-color);\n",
              "      border-left-color: var(--fill-color);\n",
              "    }\n",
              "    20% {\n",
              "      border-color: transparent;\n",
              "      border-left-color: var(--fill-color);\n",
              "      border-top-color: var(--fill-color);\n",
              "    }\n",
              "    30% {\n",
              "      border-color: transparent;\n",
              "      border-left-color: var(--fill-color);\n",
              "      border-top-color: var(--fill-color);\n",
              "      border-right-color: var(--fill-color);\n",
              "    }\n",
              "    40% {\n",
              "      border-color: transparent;\n",
              "      border-right-color: var(--fill-color);\n",
              "      border-top-color: var(--fill-color);\n",
              "    }\n",
              "    60% {\n",
              "      border-color: transparent;\n",
              "      border-right-color: var(--fill-color);\n",
              "    }\n",
              "    80% {\n",
              "      border-color: transparent;\n",
              "      border-right-color: var(--fill-color);\n",
              "      border-bottom-color: var(--fill-color);\n",
              "    }\n",
              "    90% {\n",
              "      border-color: transparent;\n",
              "      border-bottom-color: var(--fill-color);\n",
              "    }\n",
              "  }\n",
              "</style>\n",
              "\n",
              "  <script>\n",
              "    async function quickchart(key) {\n",
              "      const quickchartButtonEl =\n",
              "        document.querySelector('#' + key + ' button');\n",
              "      quickchartButtonEl.disabled = true;  // To prevent multiple clicks.\n",
              "      quickchartButtonEl.classList.add('colab-df-spinner');\n",
              "      try {\n",
              "        const charts = await google.colab.kernel.invokeFunction(\n",
              "            'suggestCharts', [key], {});\n",
              "      } catch (error) {\n",
              "        console.error('Error during call to suggestCharts:', error);\n",
              "      }\n",
              "      quickchartButtonEl.classList.remove('colab-df-spinner');\n",
              "      quickchartButtonEl.classList.add('colab-df-quickchart-complete');\n",
              "    }\n",
              "    (() => {\n",
              "      let quickchartButtonEl =\n",
              "        document.querySelector('#df-0ff59596-1505-4793-a4a7-4e8fff87f771 button');\n",
              "      quickchartButtonEl.style.display =\n",
              "        google.colab.kernel.accessAllowed ? 'block' : 'none';\n",
              "    })();\n",
              "  </script>\n",
              "</div>\n",
              "    </div>\n",
              "  </div>\n"
            ]
          },
          "metadata": {},
          "execution_count": 29
        }
      ]
    },
    {
      "cell_type": "code",
      "source": [
        "# box plot\n",
        "\n",
        "sns.boxplot(data['Flow_Duration'])\n",
        "plt.show()"
      ],
      "metadata": {
        "colab": {
          "base_uri": "https://localhost:8080/",
          "height": 430
        },
        "id": "69_QMZqxLeq0",
        "outputId": "1218d180-0693-4992-94ef-dad749b6def7"
      },
      "execution_count": null,
      "outputs": [
        {
          "output_type": "display_data",
          "data": {
            "text/plain": [
              "<Figure size 640x480 with 1 Axes>"
            ],
            "image/png": "[encoded data removed]"
          },
          "metadata": {}
        }
      ]
    },
    {
      "cell_type": "code",
      "source": [
        "sns.kdeplot(data['Flow_Duration'])\n",
        "plt.show()"
      ],
      "metadata": {
        "colab": {
          "base_uri": "https://localhost:8080/",
          "height": 450
        },
        "id": "1EcoUI_ZLhxX",
        "outputId": "2707b9a9-80aa-441b-d934-484a2ddbe06a"
      },
      "execution_count": null,
      "outputs": [
        {
          "output_type": "display_data",
          "data": {
            "text/plain": [
              "<Figure size 640x480 with 1 Axes>"
            ],
            "image/png": "[encoded data removed]"
          },
          "metadata": {}
        }
      ]
    },
    {
      "cell_type": "markdown",
      "source": [
        "# **Categorical**"
      ],
      "metadata": {
        "id": "jfTuVYLNLpKy"
      }
    },
    {
      "cell_type": "markdown",
      "source": [
        "## Measures of Frequancy"
      ],
      "metadata": {
        "id": "eN8sh8Q6LuYn"
      }
    },
    {
      "cell_type": "code",
      "source": [
        "#Frequancy\n",
        "print('Frequancy')\n",
        "print(data['Sub_Cat'].value_counts())"
      ],
      "metadata": {
        "colab": {
          "base_uri": "https://localhost:8080/"
        },
        "id": "VlMnhtrgLlqH",
        "outputId": "2ba9e6bf-dc3c-45e8-8972-54c0265a8fc8"
      },
      "execution_count": null,
      "outputs": [
        {
          "output_type": "stream",
          "name": "stdout",
          "text": [
            "Frequancy\n",
            "Mirai-UDP Flooding       60749\n",
            "Mirai-Hostbruteforceg    33859\n",
            "Normal                   26801\n",
            "DoS-Synflooding          20192\n",
            "Mirai-Ackflooding        14551\n",
            "Mirai-HTTP Flooding      14414\n",
            "MITM ARP Spoofing        10186\n",
            "Scan Port OS              8649\n",
            "Scan Hostport             4849\n",
            "Name: Sub_Cat, dtype: int64\n"
          ]
        }
      ]
    },
    {
      "cell_type": "code",
      "source": [
        "#Relative Frequancy\n",
        "print('Relative Frecquancy')\n",
        "print(data['Sub_Cat'].value_counts(normalize = True))"
      ],
      "metadata": {
        "colab": {
          "base_uri": "https://localhost:8080/"
        },
        "id": "1JgPdsOuMEDP",
        "outputId": "cff2bf53-a811-47bb-af6e-94dcdecd7077"
      },
      "execution_count": null,
      "outputs": [
        {
          "output_type": "stream",
          "name": "stdout",
          "text": [
            "Relative Frecquancy\n",
            "Mirai-UDP Flooding       0.312736\n",
            "Mirai-Hostbruteforceg    0.174306\n",
            "Normal                   0.137972\n",
            "DoS-Synflooding          0.103949\n",
            "Mirai-Ackflooding        0.074909\n",
            "Mirai-HTTP Flooding      0.074203\n",
            "MITM ARP Spoofing        0.052438\n",
            "Scan Port OS             0.044525\n",
            "Scan Hostport            0.024963\n",
            "Name: Sub_Cat, dtype: float64\n"
          ]
        }
      ]
    },
    {
      "cell_type": "code",
      "source": [
        "#Commulative Frecquancy\n",
        "print('Commulative Frecquancy')\n",
        "print(data['Sub_Cat'].value_counts().cumsum())"
      ],
      "metadata": {
        "colab": {
          "base_uri": "https://localhost:8080/"
        },
        "id": "cXTq_WeEMG6C",
        "outputId": "1a9a97b5-1df4-407f-9b34-8add3cb93691"
      },
      "execution_count": null,
      "outputs": [
        {
          "output_type": "stream",
          "name": "stdout",
          "text": [
            "Commulative Frecquancy\n",
            "Mirai-UDP Flooding        60749\n",
            "Mirai-Hostbruteforceg     94608\n",
            "Normal                   121409\n",
            "DoS-Synflooding          141601\n",
            "Mirai-Ackflooding        156152\n",
            "Mirai-HTTP Flooding      170566\n",
            "MITM ARP Spoofing        180752\n",
            "Scan Port OS             189401\n",
            "Scan Hostport            194250\n",
            "Name: Sub_Cat, dtype: int64\n"
          ]
        }
      ]
    },
    {
      "cell_type": "code",
      "source": [
        "#Relative Commulative Frequancy\n",
        "print('Relative Commulative Frequancy')\n",
        "print(data['Sub_Cat'].value_counts(normalize = True).cumsum())"
      ],
      "metadata": {
        "colab": {
          "base_uri": "https://localhost:8080/"
        },
        "id": "htM-ok-rMJtM",
        "outputId": "78dd2ac0-2ebe-4b2c-bc36-e46929f45409"
      },
      "execution_count": null,
      "outputs": [
        {
          "output_type": "stream",
          "name": "stdout",
          "text": [
            "Relative Commulative Frequancy\n",
            "Mirai-UDP Flooding       0.312736\n",
            "Mirai-Hostbruteforceg    0.487042\n",
            "Normal                   0.625014\n",
            "DoS-Synflooding          0.728963\n",
            "Mirai-Ackflooding        0.803871\n",
            "Mirai-HTTP Flooding      0.878075\n",
            "MITM ARP Spoofing        0.930512\n",
            "Scan Port OS             0.975037\n",
            "Scan Hostport            1.000000\n",
            "Name: Sub_Cat, dtype: float64\n"
          ]
        }
      ]
    },
    {
      "cell_type": "markdown",
      "source": [
        "## Measures of central tendency"
      ],
      "metadata": {
        "id": "k50zH3vvMP4e"
      }
    },
    {
      "cell_type": "code",
      "source": [
        "#mode\n",
        "data['Cat'].mode()[0]"
      ],
      "metadata": {
        "colab": {
          "base_uri": "https://localhost:8080/",
          "height": 35
        },
        "id": "CVAUisn4MM7m",
        "outputId": "724c9544-976c-4e08-ea2a-677715994598"
      },
      "execution_count": null,
      "outputs": [
        {
          "output_type": "execute_result",
          "data": {
            "text/plain": [
              "'Mirai'"
            ],
            "application/vnd.google.colaboratory.intrinsic+json": {
              "type": "string"
            }
          },
          "metadata": {},
          "execution_count": 36
        }
      ]
    },
    {
      "cell_type": "markdown",
      "source": [
        "## Choose one of the targets: label, cat, sub cat\n",
        "\n",
        "### Plots for selected target with other columns (bar, boxplot ... etc.)\n",
        "\n",
        "## Pie chart for selected target"
      ],
      "metadata": {
        "id": "tOJDarBmMWl8"
      }
    },
    {
      "cell_type": "code",
      "source": [
        "data['Label'].shape"
      ],
      "metadata": {
        "colab": {
          "base_uri": "https://localhost:8080/"
        },
        "id": "k3bO9kOOMrBH",
        "outputId": "df866bb3-d343-4d08-b6ea-bc035b4ebbb9"
      },
      "execution_count": null,
      "outputs": [
        {
          "output_type": "execute_result",
          "data": {
            "text/plain": [
              "(194250,)"
            ]
          },
          "metadata": {},
          "execution_count": 37
        }
      ]
    },
    {
      "cell_type": "code",
      "source": [
        "#create a box plot\n",
        "\n",
        "sns.boxplot(data, x='Label', y='Active_Max')\n",
        "\n",
        "plt.title('Box Plot for Label vs. Active_Max')\n",
        "\n",
        "plt.show()"
      ],
      "metadata": {
        "colab": {
          "base_uri": "https://localhost:8080/",
          "height": 472
        },
        "id": "06X0KSXvM3JK",
        "outputId": "9921fef7-8e73-49e9-d51f-773f38f4304a"
      },
      "execution_count": null,
      "outputs": [
        {
          "output_type": "display_data",
          "data": {
            "text/plain": [
              "<Figure size 640x480 with 1 Axes>"
            ],
            "image/png": "[encoded data removed]"
          },
          "metadata": {}
        }
      ]
    },
    {
      "cell_type": "code",
      "source": [
        "#create a bar plot\n",
        "\n",
        "sns.countplot(data, x='Label')\n",
        "\n",
        "plt.title('Bar Plot for Label Distribution')\n",
        "\n",
        "plt.show()"
      ],
      "metadata": {
        "colab": {
          "base_uri": "https://localhost:8080/",
          "height": 472
        },
        "id": "2g2Q63DJM6dG",
        "outputId": "8d2bb57c-f93a-49ec-dba6-39f81c5203e1"
      },
      "execution_count": null,
      "outputs": [
        {
          "output_type": "display_data",
          "data": {
            "text/plain": [
              "<Figure size 640x480 with 1 Axes>"
            ],
            "image/png": "[encoded data removed]"
          },
          "metadata": {}
        }
      ]
    },
    {
      "cell_type": "code",
      "source": [
        "#create histogram\n",
        "\n",
        "df = pd.DataFrame(data)\n",
        "\n",
        "plt.hist(data['Label'], bins= 20)\n",
        "\n",
        "plt.title('Histogram for Label Distribution')\n",
        "\n",
        "plt.xlabel('Label')\n",
        "\n",
        "plt.ylabel('Frequency')\n",
        "\n",
        "plt.show()"
      ],
      "metadata": {
        "colab": {
          "base_uri": "https://localhost:8080/",
          "height": 472
        },
        "id": "FuMA3XS8M98C",
        "outputId": "ee4535ae-b311-4183-c186-38714c6fc3a2"
      },
      "execution_count": null,
      "outputs": [
        {
          "output_type": "display_data",
          "data": {
            "text/plain": [
              "<Figure size 640x480 with 1 Axes>"
            ],
            "image/png": "[encoded data removed]"
          },
          "metadata": {}
        }
      ]
    },
    {
      "cell_type": "markdown",
      "source": [
        "# **Predictive Analytics**"
      ],
      "metadata": {
        "id": "rhz1G0QZvyH5"
      }
    },
    {
      "cell_type": "markdown",
      "source": [
        "# **Prepare the Data**"
      ],
      "metadata": {
        "id": "vdCHgxX18yYN"
      }
    },
    {
      "cell_type": "markdown",
      "source": [
        "## Check nulls in the dataset and drop or fill it"
      ],
      "metadata": {
        "id": "IZwrBCbDdtf9"
      }
    },
    {
      "cell_type": "code",
      "source": [
        "data.isnull().sum()"
      ],
      "metadata": {
        "colab": {
          "base_uri": "https://localhost:8080/"
        },
        "id": "7_6Tuop2dvtw",
        "outputId": "2429ec5a-5ded-4a86-e3bb-5ac03f87f7a3"
      },
      "execution_count": null,
      "outputs": [
        {
          "output_type": "execute_result",
          "data": {
            "text/plain": [
              "Flow_Duration      0\n",
              "Tot_Fwd_Pkts       0\n",
              "Tot_Bwd_Pkts       0\n",
              "TotLen_Fwd_Pkts    0\n",
              "TotLen_Bwd_Pkts    0\n",
              "                  ..\n",
              "Idle_Min           0\n",
              "Label              0\n",
              "Cat                0\n",
              "Sub_Cat            0\n",
              "Z-score            0\n",
              "Length: 78, dtype: int64"
            ]
          },
          "metadata": {},
          "execution_count": 41
        }
      ]
    },
    {
      "cell_type": "code",
      "source": [
        "data.dropna(inplace = True)"
      ],
      "metadata": {
        "id": "6CnjkBAVd36J"
      },
      "execution_count": null,
      "outputs": []
    },
    {
      "cell_type": "markdown",
      "source": [
        "## Convert all categorical to numeric"
      ],
      "metadata": {
        "id": "3HbQmQR7IGPW"
      }
    },
    {
      "cell_type": "code",
      "source": [
        "from sklearn.preprocessing import LabelEncoder\n",
        "\n",
        "\n",
        "cat_columns = data.select_dtypes(['object']).columns\n",
        "\n",
        "\n",
        "#convert all categorical variables to numeric\n",
        "\n",
        "\n",
        "label_encoder = LabelEncoder()\n",
        "\n",
        "\n",
        "data[cat_columns] = data[cat_columns].apply(LabelEncoder().fit_transform)"
      ],
      "metadata": {
        "id": "2ZDQ3FMiWOav"
      },
      "execution_count": null,
      "outputs": []
    },
    {
      "cell_type": "markdown",
      "source": [
        "## Choose a target from the following columns: Label, Cat, and Sub_Cat, and drop the others."
      ],
      "metadata": {
        "id": "9c3ppE2BZ3Yi"
      }
    },
    {
      "cell_type": "code",
      "source": [
        "# 'Label' is the Target column here\n",
        "\n",
        "from sklearn.model_selection import train_test_split\n",
        "\n",
        "y = data['Label']\n",
        "\n",
        "X = data.drop(['Label'],axis = 1)\n",
        "\n",
        "# Split\n",
        "\n",
        "X_train,X_test,y_train,y_test = train_test_split(X,y,test_size =0.20 ,random_state=0)\n"
      ],
      "metadata": {
        "id": "bkjtD8tHZ6oP"
      },
      "execution_count": null,
      "outputs": []
    },
    {
      "cell_type": "markdown",
      "source": [
        "## Apply any classification model on the given data set."
      ],
      "metadata": {
        "id": "3NkH8JATc7M7"
      }
    },
    {
      "cell_type": "code",
      "source": [
        "from sklearn.feature_selection import SelectKBest, f_regression\n",
        "from sklearn.metrics import accuracy_score, recall_score, precision_score, f1_score\n",
        "from sklearn.model_selection import train_test_split\n",
        "from sklearn.neighbors import KNeighborsClassifier\n",
        "from sklearn.naive_bayes import GaussianNB\n",
        "from sklearn.tree import DecisionTreeClassifier\n",
        "\n",
        "# instantiate the feature selection model\n",
        "selector = SelectKBest(f_regression, k=3)\n"
      ],
      "metadata": {
        "id": "exoo5VA8coPV"
      },
      "execution_count": null,
      "outputs": []
    },
    {
      "cell_type": "code",
      "source": [
        "from sklearn.preprocessing import StandardScaler\n",
        "\n",
        "scaler = StandardScaler()\n",
        "\n",
        "X_train_scaled = scaler.fit_transform(X_train)\n",
        "\n",
        "X_test_scaled = scaler.transform(X_test)"
      ],
      "metadata": {
        "id": "Ww_GoWx4WjcO"
      },
      "execution_count": null,
      "outputs": []
    },
    {
      "cell_type": "code",
      "source": [
        "# KNeighbors\n",
        "\n",
        "model = KNeighborsClassifier()\n",
        "model.fit(X_train_scaled, y_train)\n",
        "y_pred = model.predict(X_test_scaled)"
      ],
      "metadata": {
        "id": "l-w7TnxfHaM1"
      },
      "execution_count": null,
      "outputs": []
    },
    {
      "cell_type": "code",
      "source": [
        "# Calculate metrics for KNN\n",
        "\n",
        "acc_knn = accuracy_score(y_test, y_pred)\n",
        "rec_knn = recall_score(y_test, y_pred, average='weighted')\n",
        "prec_knn = precision_score(y_test, y_pred, average='weighted')\n",
        "f1_knn = f1_score(y_test, y_pred, average='weighted')\n",
        "\n",
        "# printing accuracy\n",
        "print(\"Accuracy: \", acc_knn)\n",
        "\n",
        "# printing recall\n",
        "print(\"Recall: \", rec_knn)\n",
        "\n",
        "# printing precision\n",
        "print(\"Precision: \", prec_knn)\n",
        "\n",
        "# printing f1 score\n",
        "print(\"F1_score: \", f1_knn)"
      ],
      "metadata": {
        "colab": {
          "base_uri": "https://localhost:8080/"
        },
        "id": "EApjezeBHcfX",
        "outputId": "fef8fdb8-8e47-46fc-f8f3-1d012ab1feb8"
      },
      "execution_count": null,
      "outputs": [
        {
          "output_type": "stream",
          "name": "stdout",
          "text": [
            "Accuracy:  0.9987902187902188\n",
            "Recall:  0.9987902187902188\n",
            "Precision:  0.9987901266364476\n",
            "F1_score:  0.9987901713245071\n"
          ]
        }
      ]
    },
    {
      "cell_type": "code",
      "source": [
        "# Gaussian NB\n",
        "\n",
        "model = GaussianNB()\n",
        "model.fit(X_train_scaled, y_train)\n",
        "y_pred = model.predict(X_test_scaled)"
      ],
      "metadata": {
        "id": "TXWj90ekHfu2"
      },
      "execution_count": null,
      "outputs": []
    },
    {
      "cell_type": "code",
      "source": [
        "# Calculate metrics for NB\n",
        "\n",
        "acc_NB = accuracy_score(y_test, y_pred)\n",
        "rec_NB = recall_score(y_test, y_pred, average='weighted')\n",
        "prec_NB = precision_score(y_test, y_pred, average='weighted')\n",
        "f1_NB = f1_score(y_test, y_pred, average='weighted')\n",
        "\n",
        "# printing accuracy\n",
        "print(\"Accuracy: \", acc_NB)\n",
        "\n",
        "# printing recall\n",
        "print(\"Recall: \", rec_NB)\n",
        "\n",
        "# printing precision\n",
        "print(\"Precision: \", prec_NB)\n",
        "\n",
        "# printing f1 score\n",
        "print(\"F1_score: \", f1_knn)\n"
      ],
      "metadata": {
        "colab": {
          "base_uri": "https://localhost:8080/"
        },
        "id": "LhHqt1bzHiYh",
        "outputId": "6f9d326d-8001-4ea6-ca2b-b6be2f1db7db"
      },
      "execution_count": null,
      "outputs": [
        {
          "output_type": "stream",
          "name": "stdout",
          "text": [
            "Accuracy:  0.9998970398970399\n",
            "Recall:  0.9998970398970399\n",
            "Precision:  0.9998970521907835\n",
            "F1_score:  0.9987901713245071\n"
          ]
        }
      ]
    },
    {
      "cell_type": "code",
      "source": [
        "# Decision Tree\n",
        "\n",
        "model = DecisionTreeClassifier()\n",
        "model.fit(X_train_scaled, y_train)\n",
        "y_pred = model.predict(X_test_scaled)"
      ],
      "metadata": {
        "id": "Y1f27UIHHkqQ"
      },
      "execution_count": null,
      "outputs": []
    },
    {
      "cell_type": "code",
      "source": [
        "# Calculate metrics for DT\n",
        "\n",
        "acc_DT = accuracy_score(y_test, y_pred)\n",
        "rec_DT = recall_score(y_test, y_pred, average='weighted')\n",
        "prec_DT = precision_score(y_test, y_pred, average='weighted')\n",
        "f1_DT = f1_score(y_test, y_pred, average='weighted')\n",
        "\n",
        "# printing accuracy\n",
        "print(\"Accuracy: \", acc_DT)\n",
        "\n",
        "# printing recall\n",
        "print(\"Recall: \", rec_DT)\n",
        "\n",
        "# printing precision\n",
        "print(\"Precision: \", prec_DT)\n",
        "\n",
        "# printing f1 score\n",
        "print(\"F1_score: \", f1_DT)\n"
      ],
      "metadata": {
        "colab": {
          "base_uri": "https://localhost:8080/"
        },
        "id": "vSUb7KnGHmoY",
        "outputId": "c3a96086-69d8-474c-8d34-b83f5c9972fb"
      },
      "execution_count": null,
      "outputs": [
        {
          "output_type": "stream",
          "name": "stdout",
          "text": [
            "Accuracy:  1.0\n",
            "Recall:  1.0\n",
            "Precision:  1.0\n",
            "F1_score:  1.0\n"
          ]
        }
      ]
    },
    {
      "cell_type": "code",
      "source": [
        "# create a Table for show the accuracy , Precsion , Recall , F1-score\n",
        "# (Comparision Table)\n",
        "\n",
        "\n",
        "#pd.DataFrame({'Accuracy':[acc_knn, acc_DT, acc_NB],\n",
        "                 #'Precision':[prec_knn, prec_DT, prec_NB],\n",
        "                 #'Recall':[rec_knn, rec_DT, rec_NB],\n",
        "                 #'F1_score':[f1_knn, f1_DT, f1_NB]},\n",
        "                  #index = ['KNN', 'DT', 'NB'])\n"
      ],
      "metadata": {
        "id": "Dea4XJ4dC4B3"
      },
      "execution_count": null,
      "outputs": []
    },
    {
      "cell_type": "code",
      "source": [
        "# create a Table for show the accuracy , Precsion , Recall , F1-score\n",
        "# (Comparision Table)\n",
        "\n",
        "list_of_models = [DecisionTreeClassifier(),\n",
        "                  KNeighborsClassifier(),\n",
        "                  GaussianNB()]\n",
        "\n",
        "index = [\"accuracy\", \"precision\", \"recall\", \"f1\"]\n",
        "\n",
        "df_model = pd.DataFrame(index=index)\n",
        "\n",
        "for i in list_of_models:\n",
        "\n",
        "    model = i\n",
        "\n",
        "    model.fit(X_train, y_train)\n",
        "\n",
        "    y_pred = model.predict(X_test)\n",
        "\n",
        "    accuracy = accuracy_score(y_test,y_pred)\n",
        "    precision = precision_score(y_test,y_pred, average='micro')\n",
        "    recall = recall_score(y_test,y_pred, average='micro')\n",
        "    f1 = f1_score(y_test,y_pred, average='micro')\n",
        "\n",
        "    print(\"\\tThe Models is \" + str(i))\n",
        "    print(f\"Accuracy:  {accuracy:.4f}\")\n",
        "    print(f\"Precision: {precision:.4f}\")\n",
        "    print(f\"Recall:  {recall:.4f}\")\n",
        "    print(f\"F1_score: {f1:.4f}\")\n",
        "    print(\"#\"*50 +\"\\n\")\n",
        "\n",
        "    df_model[str(i).rstrip(\"()\")]= [accuracy, precision, recall, f1]\n",
        "\n",
        "df_model.T"
      ],
      "metadata": {
        "colab": {
          "base_uri": "https://localhost:8080/",
          "height": 508
        },
        "id": "LzVZAZ2D8Z55",
        "outputId": "b4d5c525-b1c0-4d40-8141-9048496afc9a"
      },
      "execution_count": null,
      "outputs": [
        {
          "output_type": "stream",
          "name": "stdout",
          "text": [
            "\tThe Models is DecisionTreeClassifier()\n",
            "Accuracy:  1.0000\n",
            "Precision: 1.0000\n",
            "Recall:  1.0000\n",
            "F1_score: 1.0000\n",
            "##################################################\n",
            "\n",
            "\tThe Models is KNeighborsClassifier()\n",
            "Accuracy:  0.9834\n",
            "Precision: 0.9834\n",
            "Recall:  0.9834\n",
            "F1_score: 0.9834\n",
            "##################################################\n",
            "\n",
            "\tThe Models is GaussianNB()\n",
            "Accuracy:  0.4149\n",
            "Precision: 0.4149\n",
            "Recall:  0.4149\n",
            "F1_score: 0.4149\n",
            "##################################################\n",
            "\n"
          ]
        },
        {
          "output_type": "execute_result",
          "data": {
            "text/plain": [
              "                        accuracy  precision    recall        f1\n",
              "DecisionTreeClassifier  1.000000   1.000000  1.000000  1.000000\n",
              "KNeighborsClassifier    0.983398   0.983398  0.983398  0.983398\n",
              "GaussianNB              0.414929   0.414929  0.414929  0.414929"
            ],
            "text/html": [
              "\n",
              "  <div id=\"df-ad381752-6c2d-4988-97a4-9986901fcc9b\" class=\"colab-df-container\">\n",
              "    <div>\n",
              "<style scoped>\n",
              "    .dataframe tbody tr th:only-of-type {\n",
              "        vertical-align: middle;\n",
              "    }\n",
              "\n",
              "    .dataframe tbody tr th {\n",
              "        vertical-align: top;\n",
              "    }\n",
              "\n",
              "    .dataframe thead th {\n",
              "        text-align: right;\n",
              "    }\n",
              "</style>\n",
              "<table border=\"1\" class=\"dataframe\">\n",
              "  <thead>\n",
              "    <tr style=\"text-align: right;\">\n",
              "      <th></th>\n",
              "      <th>accuracy</th>\n",
              "      <th>precision</th>\n",
              "      <th>recall</th>\n",
              "      <th>f1</th>\n",
              "    </tr>\n",
              "  </thead>\n",
              "  <tbody>\n",
              "    <tr>\n",
              "      <th>DecisionTreeClassifier</th>\n",
              "      <td>1.000000</td>\n",
              "      <td>1.000000</td>\n",
              "      <td>1.000000</td>\n",
              "      <td>1.000000</td>\n",
              "    </tr>\n",
              "    <tr>\n",
              "      <th>KNeighborsClassifier</th>\n",
              "      <td>0.983398</td>\n",
              "      <td>0.983398</td>\n",
              "      <td>0.983398</td>\n",
              "      <td>0.983398</td>\n",
              "    </tr>\n",
              "    <tr>\n",
              "      <th>GaussianNB</th>\n",
              "      <td>0.414929</td>\n",
              "      <td>0.414929</td>\n",
              "      <td>0.414929</td>\n",
              "      <td>0.414929</td>\n",
              "    </tr>\n",
              "  </tbody>\n",
              "</table>\n",
              "</div>\n",
              "    <div class=\"colab-df-buttons\">\n",
              "\n",
              "  <div class=\"colab-df-container\">\n",
              "    <button class=\"colab-df-convert\" onclick=\"convertToInteractive('df-ad381752-6c2d-4988-97a4-9986901fcc9b')\"\n",
              "            title=\"Convert this dataframe to an interactive table.\"\n",
              "            style=\"display:none;\">\n",
              "\n",
              "  <svg xmlns=\"http://www.w3.org/2000/svg\" height=\"24px\" viewBox=\"0 -960 960 960\">\n",
              "    <path d=\"M120-120v-720h720v720H120Zm60-500h600v-160H180v160Zm220 220h160v-160H400v160Zm0 220h160v-160H400v160ZM180-400h160v-160H180v160Zm440 0h160v-160H620v160ZM180-180h160v-160H180v160Zm440 0h160v-160H620v160Z\"/>\n",
              "  </svg>\n",
              "    </button>\n",
              "\n",
              "  <style>\n",
              "    .colab-df-container {\n",
              "      display:flex;\n",
              "      gap: 12px;\n",
              "    }\n",
              "\n",
              "    .colab-df-convert {\n",
              "      background-color: #E8F0FE;\n",
              "      border: none;\n",
              "      border-radius: 50%;\n",
              "      cursor: pointer;\n",
              "      display: none;\n",
              "      fill: #1967D2;\n",
              "      height: 32px;\n",
              "      padding: 0 0 0 0;\n",
              "      width: 32px;\n",
              "    }\n",
              "\n",
              "    .colab-df-convert:hover {\n",
              "      background-color: #E2EBFA;\n",
              "      box-shadow: 0px 1px 2px rgba(60, 64, 67, 0.3), 0px 1px 3px 1px rgba(60, 64, 67, 0.15);\n",
              "      fill: #174EA6;\n",
              "    }\n",
              "\n",
              "    .colab-df-buttons div {\n",
              "      margin-bottom: 4px;\n",
              "    }\n",
              "\n",
              "    [theme=dark] .colab-df-convert {\n",
              "      background-color: #3B4455;\n",
              "      fill: #D2E3FC;\n",
              "    }\n",
              "\n",
              "    [theme=dark] .colab-df-convert:hover {\n",
              "      background-color: #434B5C;\n",
              "      box-shadow: 0px 1px 3px 1px rgba(0, 0, 0, 0.15);\n",
              "      filter: drop-shadow(0px 1px 2px rgba(0, 0, 0, 0.3));\n",
              "      fill: #FFFFFF;\n",
              "    }\n",
              "  </style>\n",
              "\n",
              "    <script>\n",
              "      const buttonEl =\n",
              "        document.querySelector('#df-ad381752-6c2d-4988-97a4-9986901fcc9b button.colab-df-convert');\n",
              "      buttonEl.style.display =\n",
              "        google.colab.kernel.accessAllowed ? 'block' : 'none';\n",
              "\n",
              "      async function convertToInteractive(key) {\n",
              "        const element = document.querySelector('#df-ad381752-6c2d-4988-97a4-9986901fcc9b');\n",
              "        const dataTable =\n",
              "          await google.colab.kernel.invokeFunction('convertToInteractive',\n",
              "                                                    [key], {});\n",
              "        if (!dataTable) return;\n",
              "\n",
              "        const docLinkHtml = 'Like what you see? Visit the ' +\n",
              "          '<a target=\"_blank\" href=https://colab.research.google.com/notebooks/data_table.ipynb>data table notebook</a>'\n",
              "          + ' to learn more about interactive tables.';\n",
              "        element.innerHTML = '';\n",
              "        dataTable['output_type'] = 'display_data';\n",
              "        await google.colab.output.renderOutput(dataTable, element);\n",
              "        const docLink = document.createElement('div');\n",
              "        docLink.innerHTML = docLinkHtml;\n",
              "        element.appendChild(docLink);\n",
              "      }\n",
              "    </script>\n",
              "  </div>\n",
              "\n",
              "\n",
              "<div id=\"df-52ce3cb1-65f2-42a5-94a4-dec8db784bdf\">\n",
              "  <button class=\"colab-df-quickchart\" onclick=\"quickchart('df-52ce3cb1-65f2-42a5-94a4-dec8db784bdf')\"\n",
              "            title=\"Suggest charts.\"\n",
              "            style=\"display:none;\">\n",
              "\n",
              "<svg xmlns=\"http://www.w3.org/2000/svg\" height=\"24px\"viewBox=\"0 0 24 24\"\n",
              "     width=\"24px\">\n",
              "    <g>\n",
              "        <path d=\"M19 3H5c-1.1 0-2 .9-2 2v14c0 1.1.9 2 2 2h14c1.1 0 2-.9 2-2V5c0-1.1-.9-2-2-2zM9 17H7v-7h2v7zm4 0h-2V7h2v10zm4 0h-2v-4h2v4z\"/>\n",
              "    </g>\n",
              "</svg>\n",
              "  </button>\n",
              "\n",
              "<style>\n",
              "  .colab-df-quickchart {\n",
              "      --bg-color: #E8F0FE;\n",
              "      --fill-color: #1967D2;\n",
              "      --hover-bg-color: #E2EBFA;\n",
              "      --hover-fill-color: #174EA6;\n",
              "      --disabled-fill-color: #AAA;\n",
              "      --disabled-bg-color: #DDD;\n",
              "  }\n",
              "\n",
              "  [theme=dark] .colab-df-quickchart {\n",
              "      --bg-color: #3B4455;\n",
              "      --fill-color: #D2E3FC;\n",
              "      --hover-bg-color: #434B5C;\n",
              "      --hover-fill-color: #FFFFFF;\n",
              "      --disabled-bg-color: #3B4455;\n",
              "      --disabled-fill-color: #666;\n",
              "  }\n",
              "\n",
              "  .colab-df-quickchart {\n",
              "    background-color: var(--bg-color);\n",
              "    border: none;\n",
              "    border-radius: 50%;\n",
              "    cursor: pointer;\n",
              "    display: none;\n",
              "    fill: var(--fill-color);\n",
              "    height: 32px;\n",
              "    padding: 0;\n",
              "    width: 32px;\n",
              "  }\n",
              "\n",
              "  .colab-df-quickchart:hover {\n",
              "    background-color: var(--hover-bg-color);\n",
              "    box-shadow: 0 1px 2px rgba(60, 64, 67, 0.3), 0 1px 3px 1px rgba(60, 64, 67, 0.15);\n",
              "    fill: var(--button-hover-fill-color);\n",
              "  }\n",
              "\n",
              "  .colab-df-quickchart-complete:disabled,\n",
              "  .colab-df-quickchart-complete:disabled:hover {\n",
              "    background-color: var(--disabled-bg-color);\n",
              "    fill: var(--disabled-fill-color);\n",
              "    box-shadow: none;\n",
              "  }\n",
              "\n",
              "  .colab-df-spinner {\n",
              "    border: 2px solid var(--fill-color);\n",
              "    border-color: transparent;\n",
              "    border-bottom-color: var(--fill-color);\n",
              "    animation:\n",
              "      spin 1s steps(1) infinite;\n",
              "  }\n",
              "\n",
              "  @keyframes spin {\n",
              "    0% {\n",
              "      border-color: transparent;\n",
              "      border-bottom-color: var(--fill-color);\n",
              "      border-left-color: var(--fill-color);\n",
              "    }\n",
              "    20% {\n",
              "      border-color: transparent;\n",
              "      border-left-color: var(--fill-color);\n",
              "      border-top-color: var(--fill-color);\n",
              "    }\n",
              "    30% {\n",
              "      border-color: transparent;\n",
              "      border-left-color: var(--fill-color);\n",
              "      border-top-color: var(--fill-color);\n",
              "      border-right-color: var(--fill-color);\n",
              "    }\n",
              "    40% {\n",
              "      border-color: transparent;\n",
              "      border-right-color: var(--fill-color);\n",
              "      border-top-color: var(--fill-color);\n",
              "    }\n",
              "    60% {\n",
              "      border-color: transparent;\n",
              "      border-right-color: var(--fill-color);\n",
              "    }\n",
              "    80% {\n",
              "      border-color: transparent;\n",
              "      border-right-color: var(--fill-color);\n",
              "      border-bottom-color: var(--fill-color);\n",
              "    }\n",
              "    90% {\n",
              "      border-color: transparent;\n",
              "      border-bottom-color: var(--fill-color);\n",
              "    }\n",
              "  }\n",
              "</style>\n",
              "\n",
              "  <script>\n",
              "    async function quickchart(key) {\n",
              "      const quickchartButtonEl =\n",
              "        document.querySelector('#' + key + ' button');\n",
              "      quickchartButtonEl.disabled = true;  // To prevent multiple clicks.\n",
              "      quickchartButtonEl.classList.add('colab-df-spinner');\n",
              "      try {\n",
              "        const charts = await google.colab.kernel.invokeFunction(\n",
              "            'suggestCharts', [key], {});\n",
              "      } catch (error) {\n",
              "        console.error('Error during call to suggestCharts:', error);\n",
              "      }\n",
              "      quickchartButtonEl.classList.remove('colab-df-spinner');\n",
              "      quickchartButtonEl.classList.add('colab-df-quickchart-complete');\n",
              "    }\n",
              "    (() => {\n",
              "      let quickchartButtonEl =\n",
              "        document.querySelector('#df-52ce3cb1-65f2-42a5-94a4-dec8db784bdf button');\n",
              "      quickchartButtonEl.style.display =\n",
              "        google.colab.kernel.accessAllowed ? 'block' : 'none';\n",
              "    })();\n",
              "  </script>\n",
              "</div>\n",
              "    </div>\n",
              "  </div>\n"
            ]
          },
          "metadata": {},
          "execution_count": 54
        }
      ]
    },
    {
      "cell_type": "code",
      "source": [
        "ax =sns.barplot(x=df_model.T.index, y=\"f1\", data=df_model.T)\n",
        "\n",
        "for i in ax.containers:\n",
        "    ax.bar_label(i,)"
      ],
      "metadata": {
        "colab": {
          "base_uri": "https://localhost:8080/",
          "height": 430
        },
        "id": "8ItOO6RE9Lfr",
        "outputId": "3a69dd81-c0d6-422b-f26f-08de2f88e7bc"
      },
      "execution_count": null,
      "outputs": [
        {
          "output_type": "display_data",
          "data": {
            "text/plain": [
              "<Figure size 640x480 with 1 Axes>"
            ],
            "image/png": "[encoded data removed]"
          },
          "metadata": {}
        }
      ]
    },
    {
      "cell_type": "markdown",
      "source": [
        "# Feature Selection"
      ],
      "metadata": {
        "id": "-TvBK0bKFTiE"
      }
    },
    {
      "cell_type": "markdown",
      "source": [
        "## **1- Variance Threshold**"
      ],
      "metadata": {
        "id": "jBmWl17DKXeN"
      }
    },
    {
      "cell_type": "code",
      "source": [
        "from sklearn.feature_selection import VarianceThreshold\n",
        "\n",
        "variances = X.var()\n",
        "selector = VarianceThreshold(threshold = 0.25)\n",
        "selector.fit(X_train)\n",
        "selected_features = X.columns[selector.get_support()]\n",
        "X_train_selected = X_train[selected_features]\n",
        "X_test_selected = X_test[selected_features]\n",
        "\n",
        "list_of_models = [DecisionTreeClassifier(),\n",
        "                  KNeighborsClassifier(),\n",
        "                  GaussianNB()]\n",
        "\n",
        "index = [\"accuracy\", \"precision\", \"recall\", \"f1\"]\n",
        "\n",
        "df_model_2 = pd.DataFrame(index=index)\n",
        "\n",
        "\n",
        "for i in list_of_models:\n",
        "\n",
        "    model = i\n",
        "\n",
        "    model.fit(X_train_selected, y_train)\n",
        "\n",
        "    y_pred = model.predict(X_test_selected)\n",
        "\n",
        "    accuracy = accuracy_score(y_test,y_pred)\n",
        "    precision = precision_score(y_test,y_pred, average='micro')\n",
        "    recall = recall_score(y_test,y_pred, average='micro')\n",
        "    f1 = f1_score(y_test,y_pred, average='micro')\n",
        "\n",
        "    print(\"\\tThe Models is \" + str(i))\n",
        "    print(f\"Accuracy:  {accuracy:.4f}\")\n",
        "    print(f\"Precision: {precision:.4f}\")\n",
        "    print(f\"Recall:  {recall:.4f}\")\n",
        "    print(f\"F1_score: {f1:.4f}\")\n",
        "    print(\"#\"*50 +\"\\n\")\n",
        "\n",
        "    df_model_2[str(i).rstrip(\"()\")]= [accuracy, precision, recall, f1]\n",
        "\n",
        "\n",
        "df_model_2.T"
      ],
      "metadata": {
        "colab": {
          "base_uri": "https://localhost:8080/",
          "height": 508
        },
        "id": "LEJwDsqK7gzb",
        "outputId": "4c19e297-808b-452b-9b36-ce30480b1c19"
      },
      "execution_count": null,
      "outputs": [
        {
          "output_type": "stream",
          "name": "stdout",
          "text": [
            "\tThe Models is DecisionTreeClassifier()\n",
            "Accuracy:  1.0000\n",
            "Precision: 1.0000\n",
            "Recall:  1.0000\n",
            "F1_score: 1.0000\n",
            "##################################################\n",
            "\n",
            "\tThe Models is KNeighborsClassifier()\n",
            "Accuracy:  0.9834\n",
            "Precision: 0.9834\n",
            "Recall:  0.9834\n",
            "F1_score: 0.9834\n",
            "##################################################\n",
            "\n",
            "\tThe Models is GaussianNB()\n",
            "Accuracy:  0.4149\n",
            "Precision: 0.4149\n",
            "Recall:  0.4149\n",
            "F1_score: 0.4149\n",
            "##################################################\n",
            "\n"
          ]
        },
        {
          "output_type": "execute_result",
          "data": {
            "text/plain": [
              "                        accuracy  precision    recall        f1\n",
              "DecisionTreeClassifier  1.000000   1.000000  1.000000  1.000000\n",
              "KNeighborsClassifier    0.983398   0.983398  0.983398  0.983398\n",
              "GaussianNB              0.414929   0.414929  0.414929  0.414929"
            ],
            "text/html": [
              "\n",
              "  <div id=\"df-7b1cf609-b2de-4447-a1c4-ffc3a021e470\" class=\"colab-df-container\">\n",
              "    <div>\n",
              "<style scoped>\n",
              "    .dataframe tbody tr th:only-of-type {\n",
              "        vertical-align: middle;\n",
              "    }\n",
              "\n",
              "    .dataframe tbody tr th {\n",
              "        vertical-align: top;\n",
              "    }\n",
              "\n",
              "    .dataframe thead th {\n",
              "        text-align: right;\n",
              "    }\n",
              "</style>\n",
              "<table border=\"1\" class=\"dataframe\">\n",
              "  <thead>\n",
              "    <tr style=\"text-align: right;\">\n",
              "      <th></th>\n",
              "      <th>accuracy</th>\n",
              "      <th>precision</th>\n",
              "      <th>recall</th>\n",
              "      <th>f1</th>\n",
              "    </tr>\n",
              "  </thead>\n",
              "  <tbody>\n",
              "    <tr>\n",
              "      <th>DecisionTreeClassifier</th>\n",
              "      <td>1.000000</td>\n",
              "      <td>1.000000</td>\n",
              "      <td>1.000000</td>\n",
              "      <td>1.000000</td>\n",
              "    </tr>\n",
              "    <tr>\n",
              "      <th>KNeighborsClassifier</th>\n",
              "      <td>0.983398</td>\n",
              "      <td>0.983398</td>\n",
              "      <td>0.983398</td>\n",
              "      <td>0.983398</td>\n",
              "    </tr>\n",
              "    <tr>\n",
              "      <th>GaussianNB</th>\n",
              "      <td>0.414929</td>\n",
              "      <td>0.414929</td>\n",
              "      <td>0.414929</td>\n",
              "      <td>0.414929</td>\n",
              "    </tr>\n",
              "  </tbody>\n",
              "</table>\n",
              "</div>\n",
              "    <div class=\"colab-df-buttons\">\n",
              "\n",
              "  <div class=\"colab-df-container\">\n",
              "    <button class=\"colab-df-convert\" onclick=\"convertToInteractive('df-7b1cf609-b2de-4447-a1c4-ffc3a021e470')\"\n",
              "            title=\"Convert this dataframe to an interactive table.\"\n",
              "            style=\"display:none;\">\n",
              "\n",
              "  <svg xmlns=\"http://www.w3.org/2000/svg\" height=\"24px\" viewBox=\"0 -960 960 960\">\n",
              "    <path d=\"M120-120v-720h720v720H120Zm60-500h600v-160H180v160Zm220 220h160v-160H400v160Zm0 220h160v-160H400v160ZM180-400h160v-160H180v160Zm440 0h160v-160H620v160ZM180-180h160v-160H180v160Zm440 0h160v-160H620v160Z\"/>\n",
              "  </svg>\n",
              "    </button>\n",
              "\n",
              "  <style>\n",
              "    .colab-df-container {\n",
              "      display:flex;\n",
              "      gap: 12px;\n",
              "    }\n",
              "\n",
              "    .colab-df-convert {\n",
              "      background-color: #E8F0FE;\n",
              "      border: none;\n",
              "      border-radius: 50%;\n",
              "      cursor: pointer;\n",
              "      display: none;\n",
              "      fill: #1967D2;\n",
              "      height: 32px;\n",
              "      padding: 0 0 0 0;\n",
              "      width: 32px;\n",
              "    }\n",
              "\n",
              "    .colab-df-convert:hover {\n",
              "      background-color: #E2EBFA;\n",
              "      box-shadow: 0px 1px 2px rgba(60, 64, 67, 0.3), 0px 1px 3px 1px rgba(60, 64, 67, 0.15);\n",
              "      fill: #174EA6;\n",
              "    }\n",
              "\n",
              "    .colab-df-buttons div {\n",
              "      margin-bottom: 4px;\n",
              "    }\n",
              "\n",
              "    [theme=dark] .colab-df-convert {\n",
              "      background-color: #3B4455;\n",
              "      fill: #D2E3FC;\n",
              "    }\n",
              "\n",
              "    [theme=dark] .colab-df-convert:hover {\n",
              "      background-color: #434B5C;\n",
              "      box-shadow: 0px 1px 3px 1px rgba(0, 0, 0, 0.15);\n",
              "      filter: drop-shadow(0px 1px 2px rgba(0, 0, 0, 0.3));\n",
              "      fill: #FFFFFF;\n",
              "    }\n",
              "  </style>\n",
              "\n",
              "    <script>\n",
              "      const buttonEl =\n",
              "        document.querySelector('#df-7b1cf609-b2de-4447-a1c4-ffc3a021e470 button.colab-df-convert');\n",
              "      buttonEl.style.display =\n",
              "        google.colab.kernel.accessAllowed ? 'block' : 'none';\n",
              "\n",
              "      async function convertToInteractive(key) {\n",
              "        const element = document.querySelector('#df-7b1cf609-b2de-4447-a1c4-ffc3a021e470');\n",
              "        const dataTable =\n",
              "          await google.colab.kernel.invokeFunction('convertToInteractive',\n",
              "                                                    [key], {});\n",
              "        if (!dataTable) return;\n",
              "\n",
              "        const docLinkHtml = 'Like what you see? Visit the ' +\n",
              "          '<a target=\"_blank\" href=https://colab.research.google.com/notebooks/data_table.ipynb>data table notebook</a>'\n",
              "          + ' to learn more about interactive tables.';\n",
              "        element.innerHTML = '';\n",
              "        dataTable['output_type'] = 'display_data';\n",
              "        await google.colab.output.renderOutput(dataTable, element);\n",
              "        const docLink = document.createElement('div');\n",
              "        docLink.innerHTML = docLinkHtml;\n",
              "        element.appendChild(docLink);\n",
              "      }\n",
              "    </script>\n",
              "  </div>\n",
              "\n",
              "\n",
              "<div id=\"df-98eb3e86-585e-43f7-a858-440a801a2eb2\">\n",
              "  <button class=\"colab-df-quickchart\" onclick=\"quickchart('df-98eb3e86-585e-43f7-a858-440a801a2eb2')\"\n",
              "            title=\"Suggest charts.\"\n",
              "            style=\"display:none;\">\n",
              "\n",
              "<svg xmlns=\"http://www.w3.org/2000/svg\" height=\"24px\"viewBox=\"0 0 24 24\"\n",
              "     width=\"24px\">\n",
              "    <g>\n",
              "        <path d=\"M19 3H5c-1.1 0-2 .9-2 2v14c0 1.1.9 2 2 2h14c1.1 0 2-.9 2-2V5c0-1.1-.9-2-2-2zM9 17H7v-7h2v7zm4 0h-2V7h2v10zm4 0h-2v-4h2v4z\"/>\n",
              "    </g>\n",
              "</svg>\n",
              "  </button>\n",
              "\n",
              "<style>\n",
              "  .colab-df-quickchart {\n",
              "      --bg-color: #E8F0FE;\n",
              "      --fill-color: #1967D2;\n",
              "      --hover-bg-color: #E2EBFA;\n",
              "      --hover-fill-color: #174EA6;\n",
              "      --disabled-fill-color: #AAA;\n",
              "      --disabled-bg-color: #DDD;\n",
              "  }\n",
              "\n",
              "  [theme=dark] .colab-df-quickchart {\n",
              "      --bg-color: #3B4455;\n",
              "      --fill-color: #D2E3FC;\n",
              "      --hover-bg-color: #434B5C;\n",
              "      --hover-fill-color: #FFFFFF;\n",
              "      --disabled-bg-color: #3B4455;\n",
              "      --disabled-fill-color: #666;\n",
              "  }\n",
              "\n",
              "  .colab-df-quickchart {\n",
              "    background-color: var(--bg-color);\n",
              "    border: none;\n",
              "    border-radius: 50%;\n",
              "    cursor: pointer;\n",
              "    display: none;\n",
              "    fill: var(--fill-color);\n",
              "    height: 32px;\n",
              "    padding: 0;\n",
              "    width: 32px;\n",
              "  }\n",
              "\n",
              "  .colab-df-quickchart:hover {\n",
              "    background-color: var(--hover-bg-color);\n",
              "    box-shadow: 0 1px 2px rgba(60, 64, 67, 0.3), 0 1px 3px 1px rgba(60, 64, 67, 0.15);\n",
              "    fill: var(--button-hover-fill-color);\n",
              "  }\n",
              "\n",
              "  .colab-df-quickchart-complete:disabled,\n",
              "  .colab-df-quickchart-complete:disabled:hover {\n",
              "    background-color: var(--disabled-bg-color);\n",
              "    fill: var(--disabled-fill-color);\n",
              "    box-shadow: none;\n",
              "  }\n",
              "\n",
              "  .colab-df-spinner {\n",
              "    border: 2px solid var(--fill-color);\n",
              "    border-color: transparent;\n",
              "    border-bottom-color: var(--fill-color);\n",
              "    animation:\n",
              "      spin 1s steps(1) infinite;\n",
              "  }\n",
              "\n",
              "  @keyframes spin {\n",
              "    0% {\n",
              "      border-color: transparent;\n",
              "      border-bottom-color: var(--fill-color);\n",
              "      border-left-color: var(--fill-color);\n",
              "    }\n",
              "    20% {\n",
              "      border-color: transparent;\n",
              "      border-left-color: var(--fill-color);\n",
              "      border-top-color: var(--fill-color);\n",
              "    }\n",
              "    30% {\n",
              "      border-color: transparent;\n",
              "      border-left-color: var(--fill-color);\n",
              "      border-top-color: var(--fill-color);\n",
              "      border-right-color: var(--fill-color);\n",
              "    }\n",
              "    40% {\n",
              "      border-color: transparent;\n",
              "      border-right-color: var(--fill-color);\n",
              "      border-top-color: var(--fill-color);\n",
              "    }\n",
              "    60% {\n",
              "      border-color: transparent;\n",
              "      border-right-color: var(--fill-color);\n",
              "    }\n",
              "    80% {\n",
              "      border-color: transparent;\n",
              "      border-right-color: var(--fill-color);\n",
              "      border-bottom-color: var(--fill-color);\n",
              "    }\n",
              "    90% {\n",
              "      border-color: transparent;\n",
              "      border-bottom-color: var(--fill-color);\n",
              "    }\n",
              "  }\n",
              "</style>\n",
              "\n",
              "  <script>\n",
              "    async function quickchart(key) {\n",
              "      const quickchartButtonEl =\n",
              "        document.querySelector('#' + key + ' button');\n",
              "      quickchartButtonEl.disabled = true;  // To prevent multiple clicks.\n",
              "      quickchartButtonEl.classList.add('colab-df-spinner');\n",
              "      try {\n",
              "        const charts = await google.colab.kernel.invokeFunction(\n",
              "            'suggestCharts', [key], {});\n",
              "      } catch (error) {\n",
              "        console.error('Error during call to suggestCharts:', error);\n",
              "      }\n",
              "      quickchartButtonEl.classList.remove('colab-df-spinner');\n",
              "      quickchartButtonEl.classList.add('colab-df-quickchart-complete');\n",
              "    }\n",
              "    (() => {\n",
              "      let quickchartButtonEl =\n",
              "        document.querySelector('#df-98eb3e86-585e-43f7-a858-440a801a2eb2 button');\n",
              "      quickchartButtonEl.style.display =\n",
              "        google.colab.kernel.accessAllowed ? 'block' : 'none';\n",
              "    })();\n",
              "  </script>\n",
              "</div>\n",
              "    </div>\n",
              "  </div>\n"
            ]
          },
          "metadata": {},
          "execution_count": 56
        }
      ]
    },
    {
      "cell_type": "code",
      "source": [
        "ax = sns.barplot(x=df_model_2.T.index, y=\"f1\", data=df_model_2.T)\n",
        "\n",
        "for i in ax.containers:\n",
        "    ax.bar_label(i,)"
      ],
      "metadata": {
        "colab": {
          "base_uri": "https://localhost:8080/",
          "height": 430
        },
        "id": "ZMTQ9o168K7A",
        "outputId": "c97987ea-f326-4829-ecd3-ddb6baa9c5cf"
      },
      "execution_count": null,
      "outputs": [
        {
          "output_type": "display_data",
          "data": {
            "text/plain": [
              "<Figure size 640x480 with 1 Axes>"
            ],
            "image/png": "[encoded data removed]"
          },
          "metadata": {}
        }
      ]
    }
  ]
}